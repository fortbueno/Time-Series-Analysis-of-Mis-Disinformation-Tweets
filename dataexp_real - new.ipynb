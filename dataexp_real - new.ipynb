{
 "cells": [
  {
   "attachments": {},
   "cell_type": "markdown",
   "metadata": {},
   "source": [
    "<h1><b>Introduction to Data Exploration</b></h1>"
   ]
  },
  {
   "attachments": {},
   "cell_type": "markdown",
   "metadata": {},
   "source": [
    "<p> Before <b>modeling</b> our data, we first preprocess the collected data then explore its corresponding values and data types. In this section, we answer several questions which may be general in nature such as how to deal with null values, data-specific questions such as what is the longest tweet, and statistical questions such as how many are categorized as false or the mean of the data collected. Executed below are the process done in order to explore the data such as preparing the data, using natural language processing, and doing time series analysis onto it. </p>"
   ]
  },
  {
   "attachments": {},
   "cell_type": "markdown",
   "metadata": {},
   "source": [
    "<p>Before getting started we first import necessary modules for processing the data as well as visualizing it as different graphs.</p>"
   ]
  },
  {
   "cell_type": "code",
   "execution_count": 1,
   "metadata": {},
   "outputs": [],
   "source": [
    "import pandas as pd\n",
    "import matplotlib.pyplot as plt\n",
    "import seaborn as sns"
   ]
  },
  {
   "attachments": {},
   "cell_type": "markdown",
   "metadata": {},
   "source": [
    "<p>We first view the data and some of its features such as what columns have null values.</p>"
   ]
  },
  {
   "cell_type": "code",
   "execution_count": 2,
   "metadata": {},
   "outputs": [
    {
     "name": "stdout",
     "output_type": "stream",
     "text": [
      "         ID          Timestamp  \\\n",
      "0      50-1  30/03/23 17:28:17   \n",
      "1      50-2  02/04/23 18:01:07   \n",
      "2      50-3  29/03/23 18:15:59   \n",
      "3      50-4  29/03/23 18:39:36   \n",
      "4      50-5  29/03/23 18:49:57   \n",
      "..      ...                ...   \n",
      "153  50-154  17/06/23 19:55:01   \n",
      "154  50-155  17/06/23 19:55:01   \n",
      "155  50-156  17/06/23 19:55:01   \n",
      "156  50-157  17/06/23 19:55:01   \n",
      "157  50-158  17/06/23 19:55:01   \n",
      "\n",
      "                                             Tweet URL  Group  \\\n",
      "0    https://twitter.com/AserolfB/status/1242445980...   50.0   \n",
      "1    https://twitter.com/Alakdan1102Eric/status/114...   50.0   \n",
      "2    https://twitter.com/Alakdan1102Eric/status/100...   50.0   \n",
      "3    https://twitter.com/LeeJoseh1/status/100815899...   50.0   \n",
      "4    https://twitter.com/dozZ3h_Vbril/status/128646...   50.0   \n",
      "..                                                 ...    ...   \n",
      "153  https://twitter.com/Nezuko80248176/status/1551...   50.0   \n",
      "154  https://twitter.com/mcfabsbro/status/155172676...   50.0   \n",
      "155  https://twitter.com/BbmDuterte/status/15424127...   50.0   \n",
      "156  https://twitter.com/Bridgit157/status/15291024...   50.0   \n",
      "157  https://twitter.com/AldrinCarlos7/status/15253...   50.0   \n",
      "\n",
      "               Collector Category                                      Topic  \\\n",
      "0    Perez, James Adrian     GOVT  Corruption Allegations on Risa Hontiveros   \n",
      "1    Perez, James Adrian     GOVT  Corruption Allegations on Risa Hontiveros   \n",
      "2    Perez, James Adrian     GOVT  Corruption Allegations on Risa Hontiveros   \n",
      "3    Perez, James Adrian     GOVT  Corruption Allegations on Risa Hontiveros   \n",
      "4    Perez, James Adrian     GOVT  Corruption Allegations on Risa Hontiveros   \n",
      "..                   ...      ...                                        ...   \n",
      "153      Bueno, Felix IV     GOVT  Corruption Allegations on Risa Hontiveros   \n",
      "154      Bueno, Felix IV     GOVT  Corruption Allegations on Risa Hontiveros   \n",
      "155      Bueno, Felix IV     GOVT  Corruption Allegations on Risa Hontiveros   \n",
      "156      Bueno, Felix IV     GOVT  Corruption Allegations on Risa Hontiveros   \n",
      "157      Bueno, Felix IV     GOVT  Corruption Allegations on Risa Hontiveros   \n",
      "\n",
      "                                              Keywords    Account handle  \\\n",
      "0    Risa Hontiveros Philhealth Scam, Philhealth Co...         @AserolfB   \n",
      "1    Risa Hontiveros Philhealth Scam, Philhealth Co...  @Alakdan1102Eric   \n",
      "2    Risa Hontiveros Philhealth Scam, Philhealth Co...  @Alakdan1102Eric   \n",
      "3    Risa Hontiveros Philhealth Scam, Philhealth Co...        @LeeJoseh1   \n",
      "4    Risa Hontiveros Philhealth Scam, Philhealth Co...  @Alakdan1102Eric   \n",
      "..                                                 ...               ...   \n",
      "153                                         Hontivirus   @Nezuko80248176   \n",
      "154                                         Hontivirus        @mcfabsbro   \n",
      "155                                         Hontivirus       @BbmDuterte   \n",
      "156                                         Hontivirus       @Bridgit157   \n",
      "157                                         Hontivirus    @AldrinCarlos7   \n",
      "\n",
      "                Account name  ... Quote Tweets Views      Rating  \\\n",
      "0    Loise Franziska Kristel  ...          NaN   NaN       FALSE   \n",
      "1                   pinoyako  ...          4.0   NaN       FALSE   \n",
      "2                   pinoyako  ...          NaN   NaN  MISLEADING   \n",
      "3                   L Joseh1  ...          NaN   NaN       FALSE   \n",
      "4              t ❤_💚 k! rO ツ  ...          NaN   NaN       FALSE   \n",
      "..                       ...  ...          ...   ...         ...   \n",
      "153                   Nezuko  ...          0.0   NaN       FALSE   \n",
      "154         Roberto Magalpok  ...          0.0   NaN       FALSE   \n",
      "155                Juan Luna  ...          0.0   NaN       FALSE   \n",
      "156                  Bridgit  ...          0.0   NaN       FALSE   \n",
      "157          THE AGRIPRENEUR  ...          0.0   NaN       FALSE   \n",
      "\n",
      "                                             Reasoning  \\\n",
      "0    Firstly, the Commission on Audit stated that t...   \n",
      "1    Firstly, the Commission on Audit stated that t...   \n",
      "2    Firstly, the Commission on Audit stated that t...   \n",
      "3    Firstly, the Commission on Audit stated that t...   \n",
      "4    Firstly, the Commission on Audit stated that t...   \n",
      "..                                                 ...   \n",
      "153  Firstly, the Commission on Audit stated that t...   \n",
      "154  Firstly, the Commission on Audit stated that t...   \n",
      "155  Firstly, the Commission on Audit stated that t...   \n",
      "156  Firstly, the Commission on Audit stated that t...   \n",
      "157  Firstly, the Commission on Audit stated that t...   \n",
      "\n",
      "                                              Remarks Add columns here  \\\n",
      "0                                                 NaN              NaN   \n",
      "1    User didn't read the rappler fact check properly              NaN   \n",
      "2                                                 NaN              NaN   \n",
      "3                         Tweet is a reply to a tweet              NaN   \n",
      "4                   Account has no location displayed              NaN   \n",
      "..                                                ...              ...   \n",
      "153                              User has no location              NaN   \n",
      "154                                               NaN              NaN   \n",
      "155                                               NaN              NaN   \n",
      "156                                   User has no bio              NaN   \n",
      "157                              User has no location              NaN   \n",
      "\n",
      "    Add columns here.1  Add columns here.2  \\\n",
      "0                  NaN                 NaN   \n",
      "1                  NaN                 NaN   \n",
      "2                  NaN                 NaN   \n",
      "3                  NaN                 NaN   \n",
      "4                  NaN                 NaN   \n",
      "..                 ...                 ...   \n",
      "153                NaN                 NaN   \n",
      "154                NaN                 NaN   \n",
      "155                NaN                 NaN   \n",
      "156                NaN                 NaN   \n",
      "157                NaN                 NaN   \n",
      "\n",
      "                                              Reviewer  \\\n",
      "0    Leave this blank.\\n\\nThis should be the 2nd to...   \n",
      "1                                                  NaN   \n",
      "2                                                  NaN   \n",
      "3                                                  NaN   \n",
      "4                                                  NaN   \n",
      "..                                                 ...   \n",
      "153                                                NaN   \n",
      "154                                                NaN   \n",
      "155                                                NaN   \n",
      "156                                                NaN   \n",
      "157                                                NaN   \n",
      "\n",
      "                                                Review  \n",
      "0    Leave this blank.\\n\\nThis should be the last c...  \n",
      "1                                                  NaN  \n",
      "2                                                  NaN  \n",
      "3                                                  NaN  \n",
      "4                                                  NaN  \n",
      "..                                                 ...  \n",
      "153                                                NaN  \n",
      "154                                                NaN  \n",
      "155                                                NaN  \n",
      "156                                                NaN  \n",
      "157                                                NaN  \n",
      "\n",
      "[158 rows x 35 columns]\n",
      "ID                      0\n",
      "Timestamp               0\n",
      "Tweet URL               0\n",
      "Group                   0\n",
      "Collector               0\n",
      "Category                0\n",
      "Topic                   0\n",
      "Keywords                0\n",
      "Account handle          0\n",
      "Account name            0\n",
      "Account bio            41\n",
      "Account type            0\n",
      "Joined                  0\n",
      "Following               0\n",
      "Followers               0\n",
      "Location               78\n",
      "Tweet                   0\n",
      "Tweet Translated      158\n",
      "Tweet Type              0\n",
      "Date posted             0\n",
      "Screenshot             53\n",
      "Content type            0\n",
      "Likes                   0\n",
      "Replies                 2\n",
      "Retweets                0\n",
      "Quote Tweets          118\n",
      "Views                 156\n",
      "Rating                  1\n",
      "Reasoning               6\n",
      "Remarks                51\n",
      "Add columns here      158\n",
      "Add columns here.1    158\n",
      "Add columns here.2    158\n",
      "Reviewer              157\n",
      "Review                157\n",
      "dtype: int64\n"
     ]
    }
   ],
   "source": [
    "df = pd.read_csv(\"Dataset - Group 50 - Data - New.csv\")\n",
    "df = df.iloc[:158]\n",
    "\n",
    "print(df)\n",
    "print(df.isnull().sum())"
   ]
  },
  {
   "attachments": {},
   "cell_type": "markdown",
   "metadata": {},
   "source": [
    "<h3><b> Handling missing values / ensuring no missing values </b></h3>"
   ]
  },
  {
   "attachments": {},
   "cell_type": "markdown",
   "metadata": {},
   "source": [
    "<p> In this section, we first try to find all the null values then deal with them using different methods such as dropping the whole column, imputing the general data, deleting the whole row. </p>"
   ]
  },
  {
   "attachments": {},
   "cell_type": "markdown",
   "metadata": {},
   "source": [
    "<p>Shown below is the several methods used in dealing with these values. As shown in the last code block, data columns that contained null values are the optional <b>Add columns, Reviewer, Review, Account Bio, Tweet translated, Views, Remarks, Location, and Reasoning</b>. For several columns that are optional and had many null values, the team decided to drop these columns by using the drop function. </p>\n",
    "\n",
    "<p>This was done the same for columns we had no literal use like the <b>Account bio, Tweet translated, Views, Remarks, Location, and Reasoning</b>.</p>\n",
    "\n",
    "<p>For columns with little null values and may prove to be useful in the research question being discussed by the team, we imputated values into these data column. One example of this is the Quote tweets data column. Since one of the steps the team ensured is to have clean data regarding this data, null values are actually 0 valued datacells. Thus, we decided to impute the value 0 in the null cells in this column. This is also done for the <b>Replies</b> column. </p>\n",
    "\n",
    "<p>Note as well that a similar step was done for the <b>Rating</b> column wherein the imputated value is the categorical data \"False\".</p>"
   ]
  },
  {
   "cell_type": "code",
   "execution_count": 3,
   "metadata": {},
   "outputs": [
    {
     "name": "stdout",
     "output_type": "stream",
     "text": [
      "ID                0\n",
      "Timestamp         0\n",
      "Tweet URL         0\n",
      "Group             0\n",
      "Collector         0\n",
      "Category          0\n",
      "Topic             0\n",
      "Keywords          0\n",
      "Account handle    0\n",
      "Account name      0\n",
      "Account type      0\n",
      "Joined            0\n",
      "Following         0\n",
      "Followers         0\n",
      "Tweet             0\n",
      "Tweet Type        0\n",
      "Date posted       0\n",
      "Content type      0\n",
      "Likes             0\n",
      "Replies           0\n",
      "Retweets          0\n",
      "Quote Tweets      0\n",
      "Rating            0\n",
      "dtype: int64\n"
     ]
    }
   ],
   "source": [
    "df.drop(['Add columns here', 'Add columns here.1', 'Add columns here.2', 'Reviewer', 'Review'], axis = 1, inplace = True)\n",
    "df.drop(['Account bio', 'Tweet Translated', 'Views', 'Remarks', 'Location', 'Reasoning', 'Screenshot'], axis = 1, inplace = True)\n",
    "df['Quote Tweets'].fillna(0, inplace = True)\n",
    "df['Replies'].fillna(0, inplace = True)\n",
    "df['Rating'].fillna('FALSE', inplace = True)\n",
    "\n",
    "print(df.isnull().sum())"
   ]
  },
  {
   "attachments": {},
   "cell_type": "markdown",
   "metadata": {},
   "source": [
    "<p> Notice in the results above that when we print out the sum of null values found in the dataset, we get 0 for all the columns. This means that we have dealt with all the null values found in our data set. <p>"
   ]
  },
  {
   "attachments": {},
   "cell_type": "markdown",
   "metadata": {},
   "source": [
    "<h3><b> Ensuring formatting consistency (Timestamp and Date Posted) </b></h3>"
   ]
  },
  {
   "attachments": {},
   "cell_type": "markdown",
   "metadata": {},
   "source": [
    "\n",
    "<p> It's also very important to ensure that formatting consistency is attained. This is important because having an inconsistent format may cause the exploratin of the data to have an error or display wrong results. Since the research team ensured that the correct data was inputted in the dataset, the team only ensured that the data type is consistent with its type of data such as the case with the <b><i>Date Posted</i></b> and <b><i>Timestamp</i></b> columns since their values is of timestamp and not strings. Having a wrong datatype may cause the values to be changed accidentally or unwillingly so having a correct datatype is also important in having formatting consistency </p>"
   ]
  },
  {
   "attachments": {},
   "cell_type": "markdown",
   "metadata": {},
   "source": [
    "<h5>To do this the team just converted its values into the datetime datatype.</h5>"
   ]
  },
  {
   "cell_type": "code",
   "execution_count": 4,
   "metadata": {},
   "outputs": [
    {
     "name": "stdout",
     "output_type": "stream",
     "text": [
      "datetime64[ns]\n",
      "0   2020-03-24 21:39:00\n",
      "1   2019-06-21 01:03:00\n",
      "2   2018-06-17 00:54:00\n",
      "3   2018-06-17 09:26:00\n",
      "4   2020-07-24 09:07:00\n",
      "Name: Date posted, dtype: datetime64[ns]\n"
     ]
    },
    {
     "name": "stderr",
     "output_type": "stream",
     "text": [
      "C:\\Users\\Fort Bueno\\AppData\\Local\\Temp\\ipykernel_3416\\3685251170.py:1: UserWarning: Could not infer format, so each element will be parsed individually, falling back to `dateutil`. To ensure parsing is consistent and as-expected, please specify a format.\n",
      "  df['Date posted'] = pd.to_datetime(df['Date posted'])\n",
      "C:\\Users\\Fort Bueno\\AppData\\Local\\Temp\\ipykernel_3416\\3685251170.py:2: UserWarning: Could not infer format, so each element will be parsed individually, falling back to `dateutil`. To ensure parsing is consistent and as-expected, please specify a format.\n",
      "  df['Timestamp'] = pd.to_datetime(df['Timestamp'])\n"
     ]
    }
   ],
   "source": [
    "df['Date posted'] = pd.to_datetime(df['Date posted'])\n",
    "df['Timestamp'] = pd.to_datetime(df['Timestamp'])\n",
    "df['Rating'] = df['Rating'].replace('FALSE. MISLEADING', 'FALSE, MISLEADING')\n",
    "df['Followers'] = df['Followers'].replace('28.3K', '28,300')\n",
    "df['Followers'] = df['Followers'].replace('20.4K', '20,300')\n",
    "\n",
    "print(df['Date posted'].dtype)\n",
    "print(df['Date posted'].head(5))"
   ]
  },
  {
   "attachments": {},
   "cell_type": "markdown",
   "metadata": {},
   "source": [
    "<p>The results above shows the first 5 data of the Date posted column as well as its datatype. </p>"
   ]
  },
  {
   "attachments": {},
   "cell_type": "markdown",
   "metadata": {},
   "source": [
    "<h3><b> Categorical Encoding </b></h3>"
   ]
  },
  {
   "attachments": {},
   "cell_type": "markdown",
   "metadata": {},
   "source": [
    "<p>In this section we do categorical encoding where we convert the categorical values into an integer format so that when we feed this data to the machine learning model we're able to give better results and predictions. There are commonly two commonly used categorical encoding methods called the one hot encoding and the integer encoding. One hot encoding is usually done in categorical values without inherent value such as being high or being low while integer encoding is done for categorical values with order such as high, medium, and low.</p>\n",
    "\n",
    "<p>Shown below is the process in doing this process. Notice that the team used one hot encoding for both the two categorical data <b>Rating</b> and <b>Content type</b> since the values of this data column doesn't have and inherent ordering in their values. For the content type, the data had at most 1 type of content type while in the rating there were some data that had 2 or more ratings.</p>"
   ]
  },
  {
   "cell_type": "code",
   "execution_count": 5,
   "metadata": {},
   "outputs": [
    {
     "name": "stdout",
     "output_type": "stream",
     "text": [
      "     ID Content type        Rating  Content type_Emotional  \\\n",
      "0  50-1    Emotional       [FALSE]                    True   \n",
      "1  50-2    Emotional       [FALSE]                    True   \n",
      "2  50-3    Emotional  [MISLEADING]                    True   \n",
      "3  50-4     Rational       [FALSE]                   False   \n",
      "4  50-5    Emotional       [FALSE]                    True   \n",
      "\n",
      "   Content type_Rational  Rating_FAKE  Rating_FALSE  Rating_MISLEADING  \\\n",
      "0                  False            0             1                  0   \n",
      "1                  False            0             1                  0   \n",
      "2                  False            0             0                  1   \n",
      "3                   True            0             1                  0   \n",
      "4                  False            0             1                  0   \n",
      "\n",
      "   Rating_UNPROVEN  \n",
      "0                0  \n",
      "1                0  \n",
      "2                0  \n",
      "3                0  \n",
      "4                0  \n"
     ]
    }
   ],
   "source": [
    "from sklearn.preprocessing import MultiLabelBinarizer\n",
    "df_categorical = df[['ID', 'Content type', 'Rating']].copy()\n",
    "one_hot = pd.get_dummies(df_categorical['Content type'], prefix = 'Content type')\n",
    "df_categorical = df_categorical.join(one_hot)\n",
    "\n",
    "\n",
    "df_categorical['Rating'] = df_categorical['Rating'].str.split(\", \")\n",
    "one_hot = MultiLabelBinarizer()\n",
    "one_hot = one_hot.fit_transform(df_categorical['Rating'])\n",
    "\n",
    "df_new = pd.concat([df_categorical, pd.DataFrame(one_hot)], axis = 1)\n",
    "df_new.columns = ['ID', 'Content type', 'Rating', 'Content type_Emotional', 'Content type_Rational', 'Rating_FAKE', 'Rating_FALSE', 'Rating_MISLEADING', 'Rating_UNPROVEN']\n",
    "print(df_new.head())\n",
    "\n"
   ]
  },
  {
   "attachments": {},
   "cell_type": "markdown",
   "metadata": {},
   "source": [
    "<p>Shown above is the output for this section. Notice that the values we're changed to 0 and 1 since one hot encoding was used.</p>"
   ]
  },
  {
   "attachments": {},
   "cell_type": "markdown",
   "metadata": {},
   "source": [
    "<h3><b> Natural Language Processing </b></h3>"
   ]
  },
  {
   "attachments": {},
   "cell_type": "markdown",
   "metadata": {},
   "source": [
    "<p>After the necessary preprocessing, we move on to natural language processing wherein we standardize in a way all the values in the dataset. For example, in this section we want 'Risa' and 'risa' to be the same value as they mean the same but have different formats. We also change the unnecesarry data such as emoticons by removing symbols and emojis by converting them into words. By doing this, we ensure that every piece of data can be processed for our exploration and modeling.</p>"
   ]
  },
  {
   "attachments": {},
   "cell_type": "markdown",
   "metadata": {},
   "source": [
    "<p>To start with, we import once again the necessary modules for doing these things such as the re, copy, string, and nltk modules. We also download some necessary database so that the process is done more efficiently.</p>\n",
    "\n",
    "<p>The code below shows the code for doing this process. Note also that we need a working internet for us to download the databases.</p>"
   ]
  },
  {
   "cell_type": "code",
   "execution_count": 6,
   "metadata": {},
   "outputs": [
    {
     "name": "stderr",
     "output_type": "stream",
     "text": [
      "[nltk_data] Downloading package stopwords to C:\\Users\\Fort\n",
      "[nltk_data]     Bueno\\AppData\\Roaming\\nltk_data...\n",
      "[nltk_data]   Package stopwords is already up-to-date!\n",
      "[nltk_data] Downloading package punkt to C:\\Users\\Fort\n",
      "[nltk_data]     Bueno\\AppData\\Roaming\\nltk_data...\n",
      "[nltk_data]   Package punkt is already up-to-date!\n",
      "[nltk_data] Downloading package wordnet to C:\\Users\\Fort\n",
      "[nltk_data]     Bueno\\AppData\\Roaming\\nltk_data...\n",
      "[nltk_data]   Package wordnet is already up-to-date!\n"
     ]
    },
    {
     "data": {
      "text/plain": [
       "True"
      ]
     },
     "execution_count": 6,
     "metadata": {},
     "output_type": "execute_result"
    }
   ],
   "source": [
    "import re\n",
    "import copy\n",
    "import string\n",
    "import nltk\n",
    "nltk.download('stopwords')\n",
    "nltk.download('punkt')\n",
    "nltk.download('wordnet')"
   ]
  },
  {
   "attachments": {},
   "cell_type": "markdown",
   "metadata": {},
   "source": [
    "<h4><b> Removal of emoji and emoticon </b></h4>"
   ]
  },
  {
   "attachments": {},
   "cell_type": "markdown",
   "metadata": {},
   "source": [
    "<p>In this section of <b>NLP</b>, we standardize the value of the string data by removing the unnecessary symbols as well as converting the emojis into a text. Note that we usually do this for the 'Account bio' column and the 'Tweets' column but since we dropped the account bio column, we don't have to do this for that data column. In addition, this is not exactly part of our main research question but this data may be useful in the data modeling section of the project so we still process this data.</p>"
   ]
  },
  {
   "attachments": {},
   "cell_type": "markdown",
   "metadata": {},
   "source": [
    "<p>To do this, we separate the handling of the two process by making functions for each of them. The first function is called <b><i>emoji_to_word</i></b> wherein its function is to return a text version of the emoji being fed to this function. To do this, we first get the database for the emojis (note that there are thousands of emojis and not everything may be in the database) so that we know what text to return for that emoji. We then use this database to change the emojis in the data into workable texts/strings.</p>\n",
    "\n",
    "<p>We do the same process for handling emoticons wherein emoticons are basically just a combination of symbols instead of being graphical like emojis. We get the database for emoticons then read it and remove these from the data rather than converting it since.</p>\n",
    "\n",
    "<p>The code below shows how this process is done. The output is also shown below.</p> "
   ]
  },
  {
   "cell_type": "code",
   "execution_count": 7,
   "metadata": {},
   "outputs": [
    {
     "name": "stdout",
     "output_type": "stream",
     "text": [
      "                                            Original  \\\n",
      "0  Risa HONTIVIRUS I will Crown 👑 you  forever Co...   \n",
      "1  RAPPLER ACCUSES RISA HONTIVEROS of CORRUPTION ...   \n",
      "2  RISA HONTIVEROS MAY PATTERN NG CORRUPTION\\r\\n1...   \n",
      "3  { Alt-text image: Photo showing Risa Hontivero...   \n",
      "4  sus panahon pa ni Risa Hontiveros  may Corrupt...   \n",
      "\n",
      "                                      Without Emotes  \n",
      "0  Risa HONTIVIRUS I will Crown crown you  foreve...  \n",
      "1  RAPPLER ACCUSES RISA HONTIVEROS of CORRUPTION ...  \n",
      "2  RISA HONTIVEROS MAY PATTERN NG CORRUPTION\\r\\n1...  \n",
      "3  { Alt-text image: Photo showing Risa Hontivero...  \n",
      "4  sus panahon pa ni Risa Hontiveros  may Corrupt...  \n"
     ]
    }
   ],
   "source": [
    "#handling emojis\n",
    "url_emoji = \"https://drive.google.com/uc?id=1G1vIkkbqPBYPKHcQ8qy0G2zkoab2Qv4v\"\n",
    "df_emoji = pd.read_pickle(url_emoji)\n",
    "df_emoji = {v: k for k, v in df_emoji.items()}\n",
    "\n",
    "def emoji_to_word(text):\n",
    "  for emot in df_emoji:\n",
    "    text = re.sub(r'('+emot+')', \"_\".join(df_emoji[emot].replace(\",\",\"\").replace(\":\",\"\").split()), text)\n",
    "  return text\n",
    "\n",
    "# handling emoticons\n",
    "url_emote = \"https://drive.google.com/uc?id=1HDpafp97gCl9xZTQWMgP2kKK_NuhENlE\"\n",
    "df_emote = pd.read_pickle(url_emote)\n",
    "\n",
    "def emote_to_word(text):\n",
    "    for emot in df_emote:\n",
    "        text = re.sub(u'('+emot+')', \"_\".join(df_emote[emot].replace(\",\",\"\").split()), text)\n",
    "        text = text.replace(\"<3\", \"heart\" ) # not included in emoticons database\n",
    "    return text\n",
    "\n",
    "tweets = copy.deepcopy(df['Tweet'])\n",
    "tweets = [emoji_to_word(t) for t in tweets]\n",
    "tweets = [emote_to_word(t) for t in tweets]\n",
    "\n",
    "df_tweet = pd.DataFrame({'Original': df['Tweet'], 'Without Emotes': tweets})\n",
    "\n",
    "print(df_tweet.head(5))"
   ]
  },
  {
   "attachments": {},
   "cell_type": "markdown",
   "metadata": {},
   "source": [
    "<h4><b>Translating and Lowercasing</b></h4>"
   ]
  },
  {
   "attachments": {},
   "cell_type": "markdown",
   "metadata": {},
   "source": [
    "<p>In this section of NLP, since we finished converting all the non-characters into workable texts we focus in making the format the same. As mentioned earlier, 'Risa' and 'risa' should be the same so as to make things easier we convert all the characters into a lowercase format. We also know that there are multilingual data from this column so before converting all of these into a lowercase format, we first translate all of it into english and only then that we converted all of the characters into lowercase.</p>\n",
    "\n",
    "<p>The code below shows this process. Note that we imported a translator so that we can convert the multilingual text into the same language but do note that this is not 100% accurate since there are sometimes contexts in language. The team decided to translate the languages into english since most of the tweets are in english format and filipino format.</p>\n",
    "\n",
    "<p>The output for the first 5 database is also shown below.</p>\n",
    "\n"
   ]
  },
  {
   "cell_type": "code",
   "execution_count": 8,
   "metadata": {},
   "outputs": [
    {
     "name": "stdout",
     "output_type": "stream",
     "text": [
      "                                            Original  \\\n",
      "0  Risa HONTIVIRUS I will Crown 👑 you  forever Co...   \n",
      "1  RAPPLER ACCUSES RISA HONTIVEROS of CORRUPTION ...   \n",
      "2  RISA HONTIVEROS MAY PATTERN NG CORRUPTION\\r\\n1...   \n",
      "3  { Alt-text image: Photo showing Risa Hontivero...   \n",
      "4  sus panahon pa ni Risa Hontiveros  may Corrupt...   \n",
      "\n",
      "                                      Without Emotes  \\\n",
      "0  Risa HONTIVIRUS I will Crown crown you  foreve...   \n",
      "1  RAPPLER ACCUSES RISA HONTIVEROS of CORRUPTION ...   \n",
      "2  RISA HONTIVEROS MAY PATTERN NG CORRUPTION\\r\\n1...   \n",
      "3  { Alt-text image: Photo showing Risa Hontivero...   \n",
      "4  sus panahon pa ni Risa Hontiveros  may Corrupt...   \n",
      "\n",
      "                                             English  \\\n",
      "0  Risa HONTIVIRUS I will Crown crown you forever...   \n",
      "1  RAPPLER ACCUSES RISA HONTIVEROS of CORRUPTION ...   \n",
      "2  RISA HONTIVEROS HAS A PATTERN OF CORRUPTION\\r\\...   \n",
      "3  { Alt-text image: Photo showing Risa Hontivero...   \n",
      "4  Gosh, during the time of Risa Hontiveros, ther...   \n",
      "\n",
      "                                             Cleaned  \n",
      "0  risa hontivirus i will crown crown you forever...  \n",
      "1  rappler accuses risa hontiveros of corruption ...  \n",
      "2  risa hontiveros has a pattern of corruption\\r\\...  \n",
      "3   alttext image photo showing risa hontiveros w...  \n",
      "4  gosh during the time of risa hontiveros there ...  \n"
     ]
    }
   ],
   "source": [
    "from googletrans import Translator\n",
    "#translating\n",
    "translator = Translator()\n",
    "tweets_eng = [t.text for t in translator.translate(tweets, src='tl', dest='en')]\n",
    "df_tweet['English'] = tweets_eng\n",
    "\n",
    "#lowercasing\n",
    "lowercase = [t.lower() for t in tweets_eng]\n",
    "lowercase = [t.translate(str.maketrans('', '', string.punctuation)) for t in lowercase]\n",
    "\n",
    "df_tweet['Cleaned'] = lowercase\n",
    "\n",
    "print(df_tweet.head(5))"
   ]
  },
  {
   "attachments": {},
   "cell_type": "markdown",
   "metadata": {},
   "source": [
    "<h4><b> Tokenization and Stop words removal </b></h4>"
   ]
  },
  {
   "attachments": {},
   "cell_type": "markdown",
   "metadata": {},
   "source": [
    "<p>In this section we remove the commonly used words without any real meaning like 'as', 'like', and 'and' which we call stop words. We also tokenize in this section. Tokenizing means that we get the words either by phrase, by sentence, or by word which is important because this can be used in data modeling such as the use of machine learning. Again, though this data column is not of utmost importance in our key question this may serve useful in future processes like data modeling.</p>\n",
    "\n",
    "<p>To do this, we import the commonly used stopwords and we separate the data into two which are filtered tweets and tokenized tweets. Note that we only did this for the <b><i>Tweets</i></b> data column</p>"
   ]
  },
  {
   "cell_type": "code",
   "execution_count": 9,
   "metadata": {},
   "outputs": [
    {
     "name": "stdout",
     "output_type": "stream",
     "text": [
      "                                            Original  \\\n",
      "0  Risa HONTIVIRUS I will Crown 👑 you  forever Co...   \n",
      "1  RAPPLER ACCUSES RISA HONTIVEROS of CORRUPTION ...   \n",
      "2  RISA HONTIVEROS MAY PATTERN NG CORRUPTION\\r\\n1...   \n",
      "3  { Alt-text image: Photo showing Risa Hontivero...   \n",
      "4  sus panahon pa ni Risa Hontiveros  may Corrupt...   \n",
      "\n",
      "                                      Without Emotes  \\\n",
      "0  Risa HONTIVIRUS I will Crown crown you  foreve...   \n",
      "1  RAPPLER ACCUSES RISA HONTIVEROS of CORRUPTION ...   \n",
      "2  RISA HONTIVEROS MAY PATTERN NG CORRUPTION\\r\\n1...   \n",
      "3  { Alt-text image: Photo showing Risa Hontivero...   \n",
      "4  sus panahon pa ni Risa Hontiveros  may Corrupt...   \n",
      "\n",
      "                                             English  \\\n",
      "0  Risa HONTIVIRUS I will Crown crown you forever...   \n",
      "1  RAPPLER ACCUSES RISA HONTIVEROS of CORRUPTION ...   \n",
      "2  RISA HONTIVEROS HAS A PATTERN OF CORRUPTION\\r\\...   \n",
      "3  { Alt-text image: Photo showing Risa Hontivero...   \n",
      "4  Gosh, during the time of Risa Hontiveros, ther...   \n",
      "\n",
      "                                             Cleaned  \\\n",
      "0  risa hontivirus i will crown crown you forever...   \n",
      "1  rappler accuses risa hontiveros of corruption ...   \n",
      "2  risa hontiveros has a pattern of corruption\\r\\...   \n",
      "3   alttext image photo showing risa hontiveros w...   \n",
      "4  gosh during the time of risa hontiveros there ...   \n",
      "\n",
      "                                            Filtered  \\\n",
      "0  risa hontivirus crown crown forever corona vir...   \n",
      "1  rappler accuses risa hontiveros corruption phi...   \n",
      "2  risa hontiveros pattern corruption 1st activis...   \n",
      "3  alttext image photo showing risa hontiveros te...   \n",
      "4  gosh time risa hontiveros corruption philhealt...   \n",
      "\n",
      "                                           Tokenized  \n",
      "0  [risa, hontivirus, crown, crown, forever, coro...  \n",
      "1  [rappler, accuses, risa, hontiveros, corruptio...  \n",
      "2  [risa, hontiveros, pattern, corruption, 1st, a...  \n",
      "3  [alttext, image, photo, showing, risa, hontive...  \n",
      "4  [gosh, time, risa, hontiveros, corruption, phi...  \n"
     ]
    }
   ],
   "source": [
    "from nltk.corpus import stopwords\n",
    "from nltk.tokenize import word_tokenize\n",
    "\n",
    "tweets_filtered = []\n",
    "tweets_tokens = []\n",
    "for tweet in df_tweet['Cleaned']:\n",
    "  tweet_list = tweet.split()\n",
    "  filtered_words = [word for word in tweet_list if word.lower() not in stopwords.words('english')] \n",
    "  filtered_sentence = ' '.join(filtered_words)\n",
    "  tweets_filtered.append(filtered_sentence)\n",
    "  token = word_tokenize(filtered_sentence)\n",
    "  tweets_tokens.append(token)\n",
    "\n",
    "df_tweet['Filtered'] = tweets_filtered\n",
    "df_tweet['Tokenized'] = tweets_tokens\n",
    "\n",
    "print(df_tweet.head(5))"
   ]
  },
  {
   "attachments": {},
   "cell_type": "markdown",
   "metadata": {},
   "source": [
    "<p>Shown above are the first 5 rows of the database.</p>"
   ]
  },
  {
   "attachments": {},
   "cell_type": "markdown",
   "metadata": {},
   "source": [
    "<h4><b> Stemming and Lemmatization </b></h4>"
   ]
  },
  {
   "attachments": {},
   "cell_type": "markdown",
   "metadata": {},
   "source": [
    "<p>Stemming and Lemmatization are both text normalization techniques used in preparing words for processings. Stemming refers to chopping the ends of words and removing derivational affixes. Stemming is usually used in producing variants of the word base which helpfully helps in returning the same value. For example, cleaning should also return the value for clean, cleaned, and cleans. Lemmatization on the other hand refers to the vocabulary instead of just using word reduction to analyze the word's meaning.  </p>"
   ]
  },
  {
   "attachments": {},
   "cell_type": "markdown",
   "metadata": {},
   "source": [
    "<p>To do this, we first import the stemmer and lemmatizer we are going to use which in this case is the <b>'Porter Stemmer'</b> and <b>'Wordnet Lemmatizer'.</b> We then create two arrays for both the stemmed tweets and the lemmatized tweets. Afterwards, we do the process of stemming and lemmatizing and append these to the array we initialized. We then create another column for these lemmatized and stemmed tweets.</p>"
   ]
  },
  {
   "cell_type": "code",
   "execution_count": 10,
   "metadata": {},
   "outputs": [
    {
     "name": "stdout",
     "output_type": "stream",
     "text": [
      "                                            Original  \\\n",
      "0  Risa HONTIVIRUS I will Crown 👑 you  forever Co...   \n",
      "1  RAPPLER ACCUSES RISA HONTIVEROS of CORRUPTION ...   \n",
      "2  RISA HONTIVEROS MAY PATTERN NG CORRUPTION\\r\\n1...   \n",
      "3  { Alt-text image: Photo showing Risa Hontivero...   \n",
      "4  sus panahon pa ni Risa Hontiveros  may Corrupt...   \n",
      "\n",
      "                                      Without Emotes  \\\n",
      "0  Risa HONTIVIRUS I will Crown crown you  foreve...   \n",
      "1  RAPPLER ACCUSES RISA HONTIVEROS of CORRUPTION ...   \n",
      "2  RISA HONTIVEROS MAY PATTERN NG CORRUPTION\\r\\n1...   \n",
      "3  { Alt-text image: Photo showing Risa Hontivero...   \n",
      "4  sus panahon pa ni Risa Hontiveros  may Corrupt...   \n",
      "\n",
      "                                             English  \\\n",
      "0  Risa HONTIVIRUS I will Crown crown you forever...   \n",
      "1  RAPPLER ACCUSES RISA HONTIVEROS of CORRUPTION ...   \n",
      "2  RISA HONTIVEROS HAS A PATTERN OF CORRUPTION\\r\\...   \n",
      "3  { Alt-text image: Photo showing Risa Hontivero...   \n",
      "4  Gosh, during the time of Risa Hontiveros, ther...   \n",
      "\n",
      "                                             Cleaned  \\\n",
      "0  risa hontivirus i will crown crown you forever...   \n",
      "1  rappler accuses risa hontiveros of corruption ...   \n",
      "2  risa hontiveros has a pattern of corruption\\r\\...   \n",
      "3   alttext image photo showing risa hontiveros w...   \n",
      "4  gosh during the time of risa hontiveros there ...   \n",
      "\n",
      "                                            Filtered  \\\n",
      "0  risa hontivirus crown crown forever corona vir...   \n",
      "1  rappler accuses risa hontiveros corruption phi...   \n",
      "2  risa hontiveros pattern corruption 1st activis...   \n",
      "3  alttext image photo showing risa hontiveros te...   \n",
      "4  gosh time risa hontiveros corruption philhealt...   \n",
      "\n",
      "                                           Tokenized  \\\n",
      "0  [risa, hontivirus, crown, crown, forever, coro...   \n",
      "1  [rappler, accuses, risa, hontiveros, corruptio...   \n",
      "2  [risa, hontiveros, pattern, corruption, 1st, a...   \n",
      "3  [alttext, image, photo, showing, risa, hontive...   \n",
      "4  [gosh, time, risa, hontiveros, corruption, phi...   \n",
      "\n",
      "                                             Stemmed  \\\n",
      "0  [risa, hontiviru, crown, crown, forev, corona,...   \n",
      "1  [rappler, accus, risa, hontivero, corrupt, phi...   \n",
      "2  [risa, hontivero, pattern, corrupt, 1st, activ...   \n",
      "3  [alttext, imag, photo, show, risa, hontivero, ...   \n",
      "4  [gosh, time, risa, hontivero, corrupt, philhea...   \n",
      "\n",
      "                                          Lemmatized  \n",
      "0  [risa, hontivirus, crown, crown, forever, coro...  \n",
      "1  [rappler, accuses, risa, hontiveros, corruptio...  \n",
      "2  [risa, hontiveros, pattern, corruption, 1st, a...  \n",
      "3  [alttext, image, photo, showing, risa, hontive...  \n",
      "4  [gosh, time, risa, hontiveros, corruption, phi...  \n"
     ]
    }
   ],
   "source": [
    "from nltk.stem import PorterStemmer, WordNetLemmatizer\n",
    "\n",
    "# Initialize the stemmer and lemmatizer\n",
    "stemmer = PorterStemmer()\n",
    "lemmatizer = WordNetLemmatizer()\n",
    "\n",
    "tweets_stem, tweets_lem = [], []\n",
    "\n",
    "def stem_lem(text):\n",
    "  words = text.split()\n",
    "\n",
    "  # Stem each word\n",
    "  stemmed_words = [stemmer.stem(word) for word in words]\n",
    "  \n",
    "  # Lemmatize each word\n",
    "  lemmatized_words = [lemmatizer.lemmatize(word) for word in words]\n",
    "  \n",
    "  # Return the stemmed and lemmatized words as a tuple\n",
    "  tweets_stem.append(stemmed_words)\n",
    "  tweets_lem.append(lemmatized_words)\n",
    "\n",
    "  return (stemmed_words, lemmatized_words)\n",
    "\n",
    "\n",
    "# Process each text in the array\n",
    "processed_texts = [stem_lem(t) for t in tweets_filtered]\n",
    "df_tweet['Stemmed'] = tweets_stem\n",
    "df_tweet['Lemmatized'] = tweets_lem\n",
    "\n",
    "print(df_tweet.head(5))"
   ]
  },
  {
   "attachments": {},
   "cell_type": "markdown",
   "metadata": {},
   "source": [
    "<p>Shown above are the first 5 rows of the database showing these changes</p>"
   ]
  },
  {
   "attachments": {},
   "cell_type": "markdown",
   "metadata": {},
   "source": [
    "<h3><b>Data Visualization and Plotting</b></h3>"
   ]
  },
  {
   "attachments": {},
   "cell_type": "markdown",
   "metadata": {},
   "source": [
    "<p>The next step after preprocessing all the data is to visualize its contents using charts, plots, and other visualizing techniques to present the complex data and represent its relationship, trends, and pattern.</p>\n",
    "\n",
    "<p>Some of the visualization techniques we used are scatterplots to show the distribution, heatmaps to show corelations, bar graphs to show comparison, and line graphs for comparison.</p>"
   ]
  },
  {
   "attachments": {},
   "cell_type": "markdown",
   "metadata": {},
   "source": [
    "<h3><b> Plotting </b></h3>"
   ]
  },
  {
   "cell_type": "code",
   "execution_count": 11,
   "metadata": {},
   "outputs": [
    {
     "name": "stdout",
     "output_type": "stream",
     "text": [
      "             count  count_nearest  count_linear  count_time  count_average\n",
      "Date posted                                                               \n",
      "2016-03-31     1.0            1.0           1.0         1.0       1.000000\n",
      "2016-04-30     1.0            1.0           1.0         1.0       1.000000\n",
      "2016-05-31     0.0            1.0           1.0         1.0       2.872727\n",
      "2016-06-30     0.0            1.0           1.0         1.0       2.872727\n",
      "2016-07-31     0.0            1.0           1.0         1.0       2.872727\n"
     ]
    }
   ],
   "source": [
    "from calendar import month_name as mn\n",
    "import matplotlib.dates as mdates\n",
    "import numpy as np\n",
    "\n",
    "grouped_df = df.groupby('Date posted').size().reset_index(name='count')\n",
    "grouped_df.set_index(['Date posted'], inplace = True)\n",
    "count_monthly = grouped_df[['count']].resample('M').sum()\n",
    "\n",
    "\n",
    "count_monthly['count'] = count_monthly['count'].replace(0, np.NaN)\n",
    "#nearest interpolation\n",
    "count_monthly['count_nearest'] = count_monthly['count'].interpolate(method='nearest')\n",
    "#linear interpolation\n",
    "count_monthly['count_linear'] = count_monthly['count'].interpolate(method='linear')\n",
    "#weighted time interpolation\n",
    "count_monthly['count_time'] = count_monthly['count'].interpolate(method='time')\n",
    "#fill missing dates using average tweets per month\n",
    "\n",
    "count_monthly['count_average'] = count_monthly['count'].replace(np.NaN, count_monthly['count'].mean())\n",
    "count_monthly['count'] = count_monthly['count'].replace(np.NaN, 0)\n",
    "print(count_monthly.head(5))\n"
   ]
  },
  {
   "cell_type": "code",
   "execution_count": 12,
   "metadata": {},
   "outputs": [
    {
     "data": {
      "image/png": "[encoded data removed]",
      "text/plain": [
       "<Figure size 1800x1000 with 1 Axes>"
      ]
     },
     "metadata": {},
     "output_type": "display_data"
    }
   ],
   "source": [
    "# count_monthly['Year'] = count_monthly.index.year\n",
    "# months = mn[1:]\n",
    "# count_monthly['Month'] = count_monthly.index.month\n",
    "# count_monthly['Month'] = pd.to_datetime(count_monthly['Month'], format = '%m').dt.month_name()\n",
    "# count_monthly.Month = pd.Categorical(count_monthly.Month, categories= months, ordered=True)\n",
    "\n",
    "# print(count_monthly)\n",
    "years = mdates.YearLocator()\n",
    "months = mdates.MonthLocator()\n",
    "years_fmt = mdates.DateFormatter('%Y-%m')\n",
    "\n",
    "fig, axes = plt.subplots(figsize=(18,10))\n",
    "sns.lineplot(data=count_monthly['count_linear'], label = 'count_monthly', marker = 'o')\n",
    "axes.xaxis.set_major_locator(months)\n",
    "axes.xaxis.set_major_formatter(years_fmt)\n",
    "axes.xaxis.set_minor_locator(months)\n",
    "\n",
    "plt.xticks(rotation = 'vertical')\n",
    "plt.show()"
   ]
  }
 ],
 "metadata": {
  "kernelspec": {
   "display_name": "Python 3",
   "language": "python",
   "name": "python3"
  },
  "language_info": {
   "codemirror_mode": {
    "name": "ipython",
    "version": 3
   },
   "file_extension": ".py",
   "mimetype": "text/x-python",
   "name": "python",
   "nbconvert_exporter": "python",
   "pygments_lexer": "ipython3",
   "version": "3.11.4"
  },
  "orig_nbformat": 4
 },
 "nbformat": 4,
 "nbformat_minor": 2
}
