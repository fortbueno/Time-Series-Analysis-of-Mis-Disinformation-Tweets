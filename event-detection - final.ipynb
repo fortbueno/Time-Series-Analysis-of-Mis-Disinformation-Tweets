{
 "cells": [
  {
   "cell_type": "code",
   "execution_count": 9,
   "metadata": {},
   "outputs": [],
   "source": [
    "import pandas as pd\n",
    "import matplotlib.pyplot as plt\n",
    "import seaborn as sns"
   ]
  },
  {
   "attachments": {},
   "cell_type": "markdown",
   "metadata": {},
   "source": [
    "<p> First, we load the dataset and apply some pre-processing techniques shown in previous sections </p>"
   ]
  },
  {
   "cell_type": "code",
   "execution_count": 10,
   "metadata": {},
   "outputs": [
    {
     "name": "stderr",
     "output_type": "stream",
     "text": [
      "C:\\Users\\Fort Bueno\\AppData\\Local\\Temp\\ipykernel_14036\\2151456633.py:8: UserWarning:\n",
      "\n",
      "Could not infer format, so each element will be parsed individually, falling back to `dateutil`. To ensure parsing is consistent and as-expected, please specify a format.\n",
      "\n",
      "C:\\Users\\Fort Bueno\\AppData\\Local\\Temp\\ipykernel_14036\\2151456633.py:9: UserWarning:\n",
      "\n",
      "Could not infer format, so each element will be parsed individually, falling back to `dateutil`. To ensure parsing is consistent and as-expected, please specify a format.\n",
      "\n"
     ]
    }
   ],
   "source": [
    "df = pd.read_csv(\"Dataset - Group 50 - Data - New.csv\")\n",
    "df = df.iloc[:158]\n",
    "df.drop(['Add columns here', 'Add columns here.1', 'Add columns here.2', 'Reviewer', 'Review'], axis = 1, inplace = True)\n",
    "df.drop(['Account bio', 'Tweet Translated', 'Views', 'Remarks', 'Location', 'Reasoning', 'Screenshot'], axis = 1, inplace = True)\n",
    "df['Quote Tweets'].fillna(0, inplace = True)\n",
    "df['Replies'].fillna(0, inplace = True)\n",
    "df['Rating'].fillna('FALSE', inplace = True)\n",
    "df['Date posted'] = pd.to_datetime(df['Date posted'])\n",
    "df['Timestamp'] = pd.to_datetime(df['Timestamp'])\n",
    "df['Rating'] = df['Rating'].replace('FALSE. MISLEADING', 'FALSE, MISLEADING')\n",
    "df['Followers'] = df['Followers'].replace('28.3K', '28,300')\n",
    "df['Followers'] = df['Followers'].replace('20.4K', '20,300')"
   ]
  },
  {
   "cell_type": "code",
   "execution_count": 11,
   "metadata": {},
   "outputs": [
    {
     "data": {
      "text/html": [
       "<div>\n",
       "<style scoped>\n",
       "    .dataframe tbody tr th:only-of-type {\n",
       "        vertical-align: middle;\n",
       "    }\n",
       "\n",
       "    .dataframe tbody tr th {\n",
       "        vertical-align: top;\n",
       "    }\n",
       "\n",
       "    .dataframe thead th {\n",
       "        text-align: right;\n",
       "    }\n",
       "</style>\n",
       "<table border=\"1\" class=\"dataframe\">\n",
       "  <thead>\n",
       "    <tr style=\"text-align: right;\">\n",
       "      <th></th>\n",
       "      <th>Date posted</th>\n",
       "      <th>count</th>\n",
       "      <th>count_linear</th>\n",
       "    </tr>\n",
       "  </thead>\n",
       "  <tbody>\n",
       "    <tr>\n",
       "      <th>0</th>\n",
       "      <td>2016-03-31</td>\n",
       "      <td>1.0</td>\n",
       "      <td>1.0</td>\n",
       "    </tr>\n",
       "    <tr>\n",
       "      <th>1</th>\n",
       "      <td>2016-04-30</td>\n",
       "      <td>1.0</td>\n",
       "      <td>1.0</td>\n",
       "    </tr>\n",
       "    <tr>\n",
       "      <th>2</th>\n",
       "      <td>2016-05-31</td>\n",
       "      <td>0.0</td>\n",
       "      <td>1.0</td>\n",
       "    </tr>\n",
       "    <tr>\n",
       "      <th>3</th>\n",
       "      <td>2016-06-30</td>\n",
       "      <td>0.0</td>\n",
       "      <td>1.0</td>\n",
       "    </tr>\n",
       "    <tr>\n",
       "      <th>4</th>\n",
       "      <td>2016-07-31</td>\n",
       "      <td>0.0</td>\n",
       "      <td>1.0</td>\n",
       "    </tr>\n",
       "  </tbody>\n",
       "</table>\n",
       "</div>"
      ],
      "text/plain": [
       "  Date posted  count  count_linear\n",
       "0  2016-03-31    1.0           1.0\n",
       "1  2016-04-30    1.0           1.0\n",
       "2  2016-05-31    0.0           1.0\n",
       "3  2016-06-30    0.0           1.0\n",
       "4  2016-07-31    0.0           1.0"
      ]
     },
     "execution_count": 11,
     "metadata": {},
     "output_type": "execute_result"
    }
   ],
   "source": [
    "from calendar import month_name as mn\n",
    "import matplotlib.dates as mdates\n",
    "import numpy as np\n",
    "\n",
    "grouped_df = df.groupby('Date posted').size().reset_index(name='count')\n",
    "grouped_df.set_index(['Date posted'], inplace = True)\n",
    "count_monthly = grouped_df[['count']].resample('M').sum()  #resample by months\n",
    "count_monthly.reset_index(inplace=True)\n",
    "\n",
    "count_monthly['count'] = count_monthly['count'].replace(0, np.NaN)\n",
    "count_monthly['count_linear'] = count_monthly['count'].interpolate(method='linear')\n",
    "count_monthly['count'] = count_monthly['count'].replace(np.NaN, 0)\n",
    "\n",
    "count_monthly.head()"
   ]
  },
  {
   "cell_type": "code",
   "execution_count": 12,
   "metadata": {},
   "outputs": [
    {
     "data": {
      "application/vnd.plotly.v1+json": {
       "config": {
        "plotlyServerURL": "https://plot.ly"
       },
       "data": [
        {
         "hovertext": [
          "2016-03-31",
          "2016-04-30",
          "2016-05-31",
          "2016-06-30",
          "2016-07-31",
          "2016-08-31",
          "2016-09-30",
          "2016-10-31",
          "2016-11-30",
          "2016-12-31",
          "2017-01-31",
          "2017-02-28",
          "2017-03-31",
          "2017-04-30",
          "2017-05-31",
          "2017-06-30",
          "2017-07-31",
          "2017-08-31",
          "2017-09-30",
          "2017-10-31",
          "2017-11-30",
          "2017-12-31",
          "2018-01-31",
          "2018-02-28",
          "2018-03-31",
          "2018-04-30",
          "2018-05-31",
          "2018-06-30",
          "2018-07-31",
          "2018-08-31",
          "2018-09-30",
          "2018-10-31",
          "2018-11-30",
          "2018-12-31",
          "2019-01-31",
          "2019-02-28",
          "2019-03-31",
          "2019-04-30",
          "2019-05-31",
          "2019-06-30",
          "2019-07-31",
          "2019-08-31",
          "2019-09-30",
          "2019-10-31",
          "2019-11-30",
          "2019-12-31",
          "2020-01-31",
          "2020-02-29",
          "2020-03-31",
          "2020-04-30",
          "2020-05-31",
          "2020-06-30",
          "2020-07-31",
          "2020-08-31",
          "2020-09-30",
          "2020-10-31",
          "2020-11-30",
          "2020-12-31",
          "2021-01-31",
          "2021-02-28",
          "2021-03-31",
          "2021-04-30",
          "2021-05-31",
          "2021-06-30",
          "2021-07-31",
          "2021-08-31",
          "2021-09-30",
          "2021-10-31",
          "2021-11-30",
          "2021-12-31",
          "2022-01-31",
          "2022-02-28",
          "2022-03-31",
          "2022-04-30",
          "2022-05-31",
          "2022-06-30",
          "2022-07-31",
          "2022-08-31",
          "2022-09-30",
          "2022-10-31",
          "2022-11-30",
          "2022-12-31"
         ],
         "line": {
          "color": "#f3f3f3",
          "width": 4
         },
         "mode": "lines",
         "name": "Original Data",
         "type": "scatter",
         "x": [
          0,
          1,
          2,
          3,
          4,
          5,
          6,
          7,
          8,
          9,
          10,
          11,
          12,
          13,
          14,
          15,
          16,
          17,
          18,
          19,
          20,
          21,
          22,
          23,
          24,
          25,
          26,
          27,
          28,
          29,
          30,
          31,
          32,
          33,
          34,
          35,
          36,
          37,
          38,
          39,
          40,
          41,
          42,
          43,
          44,
          45,
          46,
          47,
          48,
          49,
          50,
          51,
          52,
          53,
          54,
          55,
          56,
          57,
          58,
          59,
          60,
          61,
          62,
          63,
          64,
          65,
          66,
          67,
          68,
          69,
          70,
          71,
          72,
          73,
          74,
          75,
          76,
          77,
          78,
          79,
          80,
          81
         ],
         "y": [
          1,
          1,
          1,
          1,
          1,
          1,
          1,
          1,
          1,
          1,
          1,
          1,
          1,
          1,
          1,
          1,
          2,
          3,
          5,
          4,
          3,
          2,
          1.6666666666666667,
          1.3333333333333335,
          1,
          1,
          1,
          5,
          1,
          2,
          2,
          1,
          3,
          2.3333333333333335,
          1.6666666666666667,
          1,
          2.25,
          3.5,
          4.75,
          6,
          4,
          2,
          1.5,
          1,
          2,
          3,
          4,
          5,
          6,
          2,
          4,
          2,
          6,
          15,
          1,
          2,
          1,
          1,
          2,
          2,
          1,
          2,
          2,
          1,
          3,
          2,
          5,
          6,
          2,
          1,
          1,
          1,
          1,
          3,
          7,
          3,
          10,
          4,
          1,
          3,
          6,
          3
         ]
        },
        {
         "hoverinfo": "text",
         "hovertext": "Change at<br>2017-06-30",
         "line": {
          "color": "#a5ffd9",
          "dash": "dash",
          "width": 4
         },
         "mode": "lines",
         "name": "2017-06-30",
         "type": "scatter",
         "x": [
          15,
          15,
          15,
          15,
          15,
          15,
          15,
          15,
          15,
          15
         ],
         "y": [
          -2,
          0,
          2,
          4,
          5,
          7,
          10,
          14,
          18,
          22
         ]
        },
        {
         "hoverinfo": "text",
         "hovertext": "Change at<br>2019-12-31",
         "line": {
          "color": "#a5ffd9",
          "dash": "dash",
          "width": 4
         },
         "mode": "lines",
         "name": "2019-12-31",
         "type": "scatter",
         "x": [
          45,
          45,
          45,
          45,
          45,
          45,
          45,
          45,
          45,
          45
         ],
         "y": [
          -2,
          0,
          2,
          4,
          5,
          7,
          10,
          14,
          18,
          22
         ]
        },
        {
         "hoverinfo": "text",
         "hovertext": "Change at<br>2020-10-31",
         "line": {
          "color": "#a5ffd9",
          "dash": "dash",
          "width": 4
         },
         "mode": "lines",
         "name": "2020-10-31",
         "type": "scatter",
         "x": [
          55,
          55,
          55,
          55,
          55,
          55,
          55,
          55,
          55,
          55
         ],
         "y": [
          -2,
          0,
          2,
          4,
          5,
          7,
          10,
          14,
          18,
          22
         ]
        },
        {
         "hoverinfo": "text",
         "hovertext": "Change at<br>2022-06-30",
         "line": {
          "color": "#a5ffd9",
          "dash": "dash",
          "width": 4
         },
         "mode": "lines",
         "name": "2022-06-30",
         "type": "scatter",
         "x": [
          75,
          75,
          75,
          75,
          75,
          75,
          75,
          75,
          75,
          75
         ],
         "y": [
          -2,
          0,
          2,
          4,
          5,
          7,
          10,
          14,
          18,
          22
         ]
        },
        {
         "hovertext": [
          "2017-09-30",
          "2018-06-30",
          "2019-06-30",
          "2020-08-31",
          "2021-10-31",
          "2022-07-31"
         ],
         "marker": {
          "color": "#ff5e84",
          "size": 10,
          "symbol": "x"
         },
         "mode": "markers",
         "name": "Peaks",
         "type": "scatter",
         "x": [
          18,
          27,
          39,
          53,
          67,
          76
         ],
         "y": [
          5,
          5,
          6,
          15,
          6,
          10
         ]
        }
       ],
       "layout": {
        "font": {
         "color": "#f3f3f3"
        },
        "height": 600,
        "paper_bgcolor": "#31373E",
        "plot_bgcolor": "#2A3035",
        "template": {
         "data": {
          "bar": [
           {
            "error_x": {
             "color": "#2a3f5f"
            },
            "error_y": {
             "color": "#2a3f5f"
            },
            "marker": {
             "line": {
              "color": "#E5ECF6",
              "width": 0.5
             },
             "pattern": {
              "fillmode": "overlay",
              "size": 10,
              "solidity": 0.2
             }
            },
            "type": "bar"
           }
          ],
          "barpolar": [
           {
            "marker": {
             "line": {
              "color": "#E5ECF6",
              "width": 0.5
             },
             "pattern": {
              "fillmode": "overlay",
              "size": 10,
              "solidity": 0.2
             }
            },
            "type": "barpolar"
           }
          ],
          "carpet": [
           {
            "aaxis": {
             "endlinecolor": "#2a3f5f",
             "gridcolor": "white",
             "linecolor": "white",
             "minorgridcolor": "white",
             "startlinecolor": "#2a3f5f"
            },
            "baxis": {
             "endlinecolor": "#2a3f5f",
             "gridcolor": "white",
             "linecolor": "white",
             "minorgridcolor": "white",
             "startlinecolor": "#2a3f5f"
            },
            "type": "carpet"
           }
          ],
          "choropleth": [
           {
            "colorbar": {
             "outlinewidth": 0,
             "ticks": ""
            },
            "type": "choropleth"
           }
          ],
          "contour": [
           {
            "colorbar": {
             "outlinewidth": 0,
             "ticks": ""
            },
            "colorscale": [
             [
              0,
              "#0d0887"
             ],
             [
              0.1111111111111111,
              "#46039f"
             ],
             [
              0.2222222222222222,
              "#7201a8"
             ],
             [
              0.3333333333333333,
              "#9c179e"
             ],
             [
              0.4444444444444444,
              "#bd3786"
             ],
             [
              0.5555555555555556,
              "#d8576b"
             ],
             [
              0.6666666666666666,
              "#ed7953"
             ],
             [
              0.7777777777777778,
              "#fb9f3a"
             ],
             [
              0.8888888888888888,
              "#fdca26"
             ],
             [
              1,
              "#f0f921"
             ]
            ],
            "type": "contour"
           }
          ],
          "contourcarpet": [
           {
            "colorbar": {
             "outlinewidth": 0,
             "ticks": ""
            },
            "type": "contourcarpet"
           }
          ],
          "heatmap": [
           {
            "colorbar": {
             "outlinewidth": 0,
             "ticks": ""
            },
            "colorscale": [
             [
              0,
              "#0d0887"
             ],
             [
              0.1111111111111111,
              "#46039f"
             ],
             [
              0.2222222222222222,
              "#7201a8"
             ],
             [
              0.3333333333333333,
              "#9c179e"
             ],
             [
              0.4444444444444444,
              "#bd3786"
             ],
             [
              0.5555555555555556,
              "#d8576b"
             ],
             [
              0.6666666666666666,
              "#ed7953"
             ],
             [
              0.7777777777777778,
              "#fb9f3a"
             ],
             [
              0.8888888888888888,
              "#fdca26"
             ],
             [
              1,
              "#f0f921"
             ]
            ],
            "type": "heatmap"
           }
          ],
          "heatmapgl": [
           {
            "colorbar": {
             "outlinewidth": 0,
             "ticks": ""
            },
            "colorscale": [
             [
              0,
              "#0d0887"
             ],
             [
              0.1111111111111111,
              "#46039f"
             ],
             [
              0.2222222222222222,
              "#7201a8"
             ],
             [
              0.3333333333333333,
              "#9c179e"
             ],
             [
              0.4444444444444444,
              "#bd3786"
             ],
             [
              0.5555555555555556,
              "#d8576b"
             ],
             [
              0.6666666666666666,
              "#ed7953"
             ],
             [
              0.7777777777777778,
              "#fb9f3a"
             ],
             [
              0.8888888888888888,
              "#fdca26"
             ],
             [
              1,
              "#f0f921"
             ]
            ],
            "type": "heatmapgl"
           }
          ],
          "histogram": [
           {
            "marker": {
             "pattern": {
              "fillmode": "overlay",
              "size": 10,
              "solidity": 0.2
             }
            },
            "type": "histogram"
           }
          ],
          "histogram2d": [
           {
            "colorbar": {
             "outlinewidth": 0,
             "ticks": ""
            },
            "colorscale": [
             [
              0,
              "#0d0887"
             ],
             [
              0.1111111111111111,
              "#46039f"
             ],
             [
              0.2222222222222222,
              "#7201a8"
             ],
             [
              0.3333333333333333,
              "#9c179e"
             ],
             [
              0.4444444444444444,
              "#bd3786"
             ],
             [
              0.5555555555555556,
              "#d8576b"
             ],
             [
              0.6666666666666666,
              "#ed7953"
             ],
             [
              0.7777777777777778,
              "#fb9f3a"
             ],
             [
              0.8888888888888888,
              "#fdca26"
             ],
             [
              1,
              "#f0f921"
             ]
            ],
            "type": "histogram2d"
           }
          ],
          "histogram2dcontour": [
           {
            "colorbar": {
             "outlinewidth": 0,
             "ticks": ""
            },
            "colorscale": [
             [
              0,
              "#0d0887"
             ],
             [
              0.1111111111111111,
              "#46039f"
             ],
             [
              0.2222222222222222,
              "#7201a8"
             ],
             [
              0.3333333333333333,
              "#9c179e"
             ],
             [
              0.4444444444444444,
              "#bd3786"
             ],
             [
              0.5555555555555556,
              "#d8576b"
             ],
             [
              0.6666666666666666,
              "#ed7953"
             ],
             [
              0.7777777777777778,
              "#fb9f3a"
             ],
             [
              0.8888888888888888,
              "#fdca26"
             ],
             [
              1,
              "#f0f921"
             ]
            ],
            "type": "histogram2dcontour"
           }
          ],
          "mesh3d": [
           {
            "colorbar": {
             "outlinewidth": 0,
             "ticks": ""
            },
            "type": "mesh3d"
           }
          ],
          "parcoords": [
           {
            "line": {
             "colorbar": {
              "outlinewidth": 0,
              "ticks": ""
             }
            },
            "type": "parcoords"
           }
          ],
          "pie": [
           {
            "automargin": true,
            "type": "pie"
           }
          ],
          "scatter": [
           {
            "fillpattern": {
             "fillmode": "overlay",
             "size": 10,
             "solidity": 0.2
            },
            "type": "scatter"
           }
          ],
          "scatter3d": [
           {
            "line": {
             "colorbar": {
              "outlinewidth": 0,
              "ticks": ""
             }
            },
            "marker": {
             "colorbar": {
              "outlinewidth": 0,
              "ticks": ""
             }
            },
            "type": "scatter3d"
           }
          ],
          "scattercarpet": [
           {
            "marker": {
             "colorbar": {
              "outlinewidth": 0,
              "ticks": ""
             }
            },
            "type": "scattercarpet"
           }
          ],
          "scattergeo": [
           {
            "marker": {
             "colorbar": {
              "outlinewidth": 0,
              "ticks": ""
             }
            },
            "type": "scattergeo"
           }
          ],
          "scattergl": [
           {
            "marker": {
             "colorbar": {
              "outlinewidth": 0,
              "ticks": ""
             }
            },
            "type": "scattergl"
           }
          ],
          "scattermapbox": [
           {
            "marker": {
             "colorbar": {
              "outlinewidth": 0,
              "ticks": ""
             }
            },
            "type": "scattermapbox"
           }
          ],
          "scatterpolar": [
           {
            "marker": {
             "colorbar": {
              "outlinewidth": 0,
              "ticks": ""
             }
            },
            "type": "scatterpolar"
           }
          ],
          "scatterpolargl": [
           {
            "marker": {
             "colorbar": {
              "outlinewidth": 0,
              "ticks": ""
             }
            },
            "type": "scatterpolargl"
           }
          ],
          "scatterternary": [
           {
            "marker": {
             "colorbar": {
              "outlinewidth": 0,
              "ticks": ""
             }
            },
            "type": "scatterternary"
           }
          ],
          "surface": [
           {
            "colorbar": {
             "outlinewidth": 0,
             "ticks": ""
            },
            "colorscale": [
             [
              0,
              "#0d0887"
             ],
             [
              0.1111111111111111,
              "#46039f"
             ],
             [
              0.2222222222222222,
              "#7201a8"
             ],
             [
              0.3333333333333333,
              "#9c179e"
             ],
             [
              0.4444444444444444,
              "#bd3786"
             ],
             [
              0.5555555555555556,
              "#d8576b"
             ],
             [
              0.6666666666666666,
              "#ed7953"
             ],
             [
              0.7777777777777778,
              "#fb9f3a"
             ],
             [
              0.8888888888888888,
              "#fdca26"
             ],
             [
              1,
              "#f0f921"
             ]
            ],
            "type": "surface"
           }
          ],
          "table": [
           {
            "cells": {
             "fill": {
              "color": "#EBF0F8"
             },
             "line": {
              "color": "white"
             }
            },
            "header": {
             "fill": {
              "color": "#C8D4E3"
             },
             "line": {
              "color": "white"
             }
            },
            "type": "table"
           }
          ]
         },
         "layout": {
          "annotationdefaults": {
           "arrowcolor": "#2a3f5f",
           "arrowhead": 0,
           "arrowwidth": 1
          },
          "autotypenumbers": "strict",
          "coloraxis": {
           "colorbar": {
            "outlinewidth": 0,
            "ticks": ""
           }
          },
          "colorscale": {
           "diverging": [
            [
             0,
             "#8e0152"
            ],
            [
             0.1,
             "#c51b7d"
            ],
            [
             0.2,
             "#de77ae"
            ],
            [
             0.3,
             "#f1b6da"
            ],
            [
             0.4,
             "#fde0ef"
            ],
            [
             0.5,
             "#f7f7f7"
            ],
            [
             0.6,
             "#e6f5d0"
            ],
            [
             0.7,
             "#b8e186"
            ],
            [
             0.8,
             "#7fbc41"
            ],
            [
             0.9,
             "#4d9221"
            ],
            [
             1,
             "#276419"
            ]
           ],
           "sequential": [
            [
             0,
             "#0d0887"
            ],
            [
             0.1111111111111111,
             "#46039f"
            ],
            [
             0.2222222222222222,
             "#7201a8"
            ],
            [
             0.3333333333333333,
             "#9c179e"
            ],
            [
             0.4444444444444444,
             "#bd3786"
            ],
            [
             0.5555555555555556,
             "#d8576b"
            ],
            [
             0.6666666666666666,
             "#ed7953"
            ],
            [
             0.7777777777777778,
             "#fb9f3a"
            ],
            [
             0.8888888888888888,
             "#fdca26"
            ],
            [
             1,
             "#f0f921"
            ]
           ],
           "sequentialminus": [
            [
             0,
             "#0d0887"
            ],
            [
             0.1111111111111111,
             "#46039f"
            ],
            [
             0.2222222222222222,
             "#7201a8"
            ],
            [
             0.3333333333333333,
             "#9c179e"
            ],
            [
             0.4444444444444444,
             "#bd3786"
            ],
            [
             0.5555555555555556,
             "#d8576b"
            ],
            [
             0.6666666666666666,
             "#ed7953"
            ],
            [
             0.7777777777777778,
             "#fb9f3a"
            ],
            [
             0.8888888888888888,
             "#fdca26"
            ],
            [
             1,
             "#f0f921"
            ]
           ]
          },
          "colorway": [
           "#636efa",
           "#EF553B",
           "#00cc96",
           "#ab63fa",
           "#FFA15A",
           "#19d3f3",
           "#FF6692",
           "#B6E880",
           "#FF97FF",
           "#FECB52"
          ],
          "font": {
           "color": "#2a3f5f"
          },
          "geo": {
           "bgcolor": "white",
           "lakecolor": "white",
           "landcolor": "#E5ECF6",
           "showlakes": true,
           "showland": true,
           "subunitcolor": "white"
          },
          "hoverlabel": {
           "align": "left"
          },
          "hovermode": "closest",
          "mapbox": {
           "style": "light"
          },
          "paper_bgcolor": "white",
          "plot_bgcolor": "#E5ECF6",
          "polar": {
           "angularaxis": {
            "gridcolor": "white",
            "linecolor": "white",
            "ticks": ""
           },
           "bgcolor": "#E5ECF6",
           "radialaxis": {
            "gridcolor": "white",
            "linecolor": "white",
            "ticks": ""
           }
          },
          "scene": {
           "xaxis": {
            "backgroundcolor": "#E5ECF6",
            "gridcolor": "white",
            "gridwidth": 2,
            "linecolor": "white",
            "showbackground": true,
            "ticks": "",
            "zerolinecolor": "white"
           },
           "yaxis": {
            "backgroundcolor": "#E5ECF6",
            "gridcolor": "white",
            "gridwidth": 2,
            "linecolor": "white",
            "showbackground": true,
            "ticks": "",
            "zerolinecolor": "white"
           },
           "zaxis": {
            "backgroundcolor": "#E5ECF6",
            "gridcolor": "white",
            "gridwidth": 2,
            "linecolor": "white",
            "showbackground": true,
            "ticks": "",
            "zerolinecolor": "white"
           }
          },
          "shapedefaults": {
           "line": {
            "color": "#2a3f5f"
           }
          },
          "ternary": {
           "aaxis": {
            "gridcolor": "white",
            "linecolor": "white",
            "ticks": ""
           },
           "baxis": {
            "gridcolor": "white",
            "linecolor": "white",
            "ticks": ""
           },
           "bgcolor": "#E5ECF6",
           "caxis": {
            "gridcolor": "white",
            "linecolor": "white",
            "ticks": ""
           }
          },
          "title": {
           "x": 0.05
          },
          "xaxis": {
           "automargin": true,
           "gridcolor": "white",
           "linecolor": "white",
           "ticks": "",
           "title": {
            "standoff": 15
           },
           "zerolinecolor": "white",
           "zerolinewidth": 2
          },
          "yaxis": {
           "automargin": true,
           "gridcolor": "white",
           "linecolor": "white",
           "ticks": "",
           "title": {
            "standoff": 15
           },
           "zerolinecolor": "white",
           "zerolinewidth": 2
          }
         }
        },
        "title": {
         "text": "<span style = \"color:#f3f3f3\"><b>Twitter Risa Tweet Mis/Disinformation Philhealth Allegations Peaks & Change Points</b></span>"
        },
        "xaxis": {
         "color": "#f3f3f3",
         "tickmode": "array",
         "ticktext": [
          "2016-03-31",
          "2017-07-31",
          "2018-11-30",
          "2020-03-31",
          "2021-07-31",
          "2022-11-30"
         ],
         "tickvals": [
          0,
          16,
          32,
          48,
          64,
          80
         ],
         "title": {
          "text": "<b>Date</b>"
         }
        },
        "yaxis": {
         "color": "#f3f3f3",
         "range": [
          -2,
          22
         ],
         "title": {
          "text": "<b>Tweet Count</b>"
         }
        }
       }
      }
     },
     "metadata": {},
     "output_type": "display_data"
    }
   ],
   "source": [
    "## Perform peak detection\n",
    "from scipy.signal import find_peaks\n",
    "import ruptures as rpt\n",
    "import plotly.graph_objects as go\n",
    "\n",
    "x = count_monthly['Date posted'].astype(np.int64) / 10**9  # Convert to seconds (UNIX epoch start)\n",
    "x = x.values.reshape(-1, 1) \n",
    "y = count_monthly['count_linear']\n",
    "\n",
    "peaks, _ = find_peaks(count_monthly['count_linear'],\n",
    "                      height=5,  # height of peaks\n",
    "                      width=0.5,       # width of peaks\n",
    "                      threshold=1, # vertical distance to its neighboring samples\n",
    "                      distance=7,   # minimal horizontal distance (>= 1) in samples between neighbouring peaks\n",
    "                      prominence=1) # vertical distance between the peak and its lowest contour line\n",
    "\n",
    "data = count_monthly['count_linear'].values\n",
    "\n",
    "# Extract event timestamps\n",
    "events = count_monthly.iloc[peaks]\n",
    "\n",
    "# Change-point detection via Pelt algorithm\n",
    "model = \"rbf\"\n",
    "algo = rpt.Pelt(model=model).fit(data)\n",
    "result = algo.predict(pen=.8)  # Adjust the penalty value based on your data\n",
    "\n",
    "# Plot peaks\n",
    "fig = go.Figure()\n",
    "\n",
    "# Original data\n",
    "fig.add_trace(go.Scatter(\n",
    "  x=count_monthly.index,\n",
    "  y=count_monthly['count_linear'],\n",
    "  hovertext=count_monthly['Date posted'].dt.strftime('%Y-%m-%d'),\n",
    "  mode='lines',\n",
    "  name='Original Data',\n",
    "  line=dict(\n",
    "    color='#f3f3f3',\n",
    "    width = 4\n",
    "  )))\n",
    "\n",
    "for cp_index in result[:-1]:\n",
    "  x_1 = count_monthly.index[cp_index]\n",
    "  y_1, y_2, y_3, y_4, y_5 = -2, 0, 2, 4, 5\n",
    "  y_6, y_7, y_8, y_9, y_10 = 7, 10, 14, 18, 22\n",
    "\n",
    "  fig.add_trace(go.Scatter(\n",
    "    x=[x_1, x_1, x_1, x_1, x_1, x_1, x_1, x_1, x_1, x_1],\n",
    "    y=[y_1, y_2, y_3, y_4, y_5, y_6, y_7, y_8, y_9, y_10],\n",
    "    mode='lines',\n",
    "    name=count_monthly['Date posted'].dt.strftime('%Y-%m-%d')[cp_index],\n",
    "    hoverinfo='text',\n",
    "    hovertext='Change at<br>%s'%count_monthly['Date posted'].dt.strftime('%Y-%m-%d')[cp_index],\n",
    "    line=dict(color='#a5ffd9', width=4, dash='dash')))\n",
    "\n",
    "\n",
    "# Peaks\n",
    "fig.add_trace(go.Scatter(\n",
    "  x=events.index,\n",
    "  y=events['count_linear'],\n",
    "  hovertext=events['Date posted'].dt.strftime('%Y-%m-%d'),\n",
    "  mode='markers',\n",
    "  name='Peaks',\n",
    "  marker=dict(\n",
    "    color='#ff5e84',\n",
    "    size=10,\n",
    "    symbol='x')))\n",
    "\n",
    "fig.update_layout(height=600,\n",
    "                  title='<span style = \"color:#f3f3f3\"><b>Twitter Risa Tweet Mis/Disinformation Philhealth Allegations Peaks & Change Points</b></span>',\n",
    "                  xaxis=dict(title='<b>Date</b>', color = \"#f3f3f3\"),\n",
    "                  yaxis=dict(title='<b>Tweet Count</b>', color = \"#f3f3f3\"),\n",
    "                  yaxis_range=[-2, 22],\n",
    "                  plot_bgcolor=\"#2A3035\",\n",
    "                  paper_bgcolor=\"#31373E\",\n",
    "                  font_color = \"#f3f3f3\")\n",
    "\n",
    "xtv = np.arange(0,82,16)\n",
    "xtt = count_monthly['Date posted'].dt.strftime('%Y-%m-%d')[xtv]\n",
    "fig.update_xaxes(tickmode='array',\n",
    "                 tickvals=xtv,\n",
    "                 ticktext=xtt)\n",
    "\n",
    "fig.show()"
   ]
  }
 ],
 "metadata": {
  "kernelspec": {
   "display_name": "Python 3",
   "language": "python",
   "name": "python3"
  },
  "language_info": {
   "codemirror_mode": {
    "name": "ipython",
    "version": 3
   },
   "file_extension": ".py",
   "mimetype": "text/x-python",
   "name": "python",
   "nbconvert_exporter": "python",
   "pygments_lexer": "ipython3",
   "version": "3.11.4"
  },
  "orig_nbformat": 4
 },
 "nbformat": 4,
 "nbformat_minor": 2
}
