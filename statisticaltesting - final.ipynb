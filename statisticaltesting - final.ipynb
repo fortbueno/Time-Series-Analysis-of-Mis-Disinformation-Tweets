{
 "cells": [
  {
   "cell_type": "code",
   "execution_count": 2,
   "metadata": {},
   "outputs": [],
   "source": [
    "import pandas as pd\n",
    "import matplotlib.pyplot as plt\n",
    "import seaborn as sns"
   ]
  },
  {
   "attachments": {},
   "cell_type": "markdown",
   "metadata": {},
   "source": [
    "<p> First, we load the dataset and apply some pre-processing techniques shown in previous sections </p>"
   ]
  },
  {
   "cell_type": "code",
   "execution_count": 3,
   "metadata": {},
   "outputs": [
    {
     "name": "stderr",
     "output_type": "stream",
     "text": [
      "C:\\Users\\Fort Bueno\\AppData\\Local\\Temp\\ipykernel_24216\\2151456633.py:8: UserWarning: Could not infer format, so each element will be parsed individually, falling back to `dateutil`. To ensure parsing is consistent and as-expected, please specify a format.\n",
      "  df['Date posted'] = pd.to_datetime(df['Date posted'])\n",
      "C:\\Users\\Fort Bueno\\AppData\\Local\\Temp\\ipykernel_24216\\2151456633.py:9: UserWarning: Could not infer format, so each element will be parsed individually, falling back to `dateutil`. To ensure parsing is consistent and as-expected, please specify a format.\n",
      "  df['Timestamp'] = pd.to_datetime(df['Timestamp'])\n"
     ]
    }
   ],
   "source": [
    "df = pd.read_csv(\"Dataset - Group 50 - Data - New.csv\")\n",
    "df = df.iloc[:158]\n",
    "df.drop(['Add columns here', 'Add columns here.1', 'Add columns here.2', 'Reviewer', 'Review'], axis = 1, inplace = True)\n",
    "df.drop(['Account bio', 'Tweet Translated', 'Views', 'Remarks', 'Location', 'Reasoning', 'Screenshot'], axis = 1, inplace = True)\n",
    "df['Quote Tweets'].fillna(0, inplace = True)\n",
    "df['Replies'].fillna(0, inplace = True)\n",
    "df['Rating'].fillna('FALSE', inplace = True)\n",
    "df['Date posted'] = pd.to_datetime(df['Date posted'])\n",
    "df['Timestamp'] = pd.to_datetime(df['Timestamp'])\n",
    "df['Rating'] = df['Rating'].replace('FALSE. MISLEADING', 'FALSE, MISLEADING')\n",
    "df['Followers'] = df['Followers'].replace('28.3K', '28,300')\n",
    "df['Followers'] = df['Followers'].replace('20.4K', '20,300')"
   ]
  },
  {
   "cell_type": "code",
   "execution_count": 4,
   "metadata": {},
   "outputs": [
    {
     "data": {
      "text/html": [
       "<div>\n",
       "<style scoped>\n",
       "    .dataframe tbody tr th:only-of-type {\n",
       "        vertical-align: middle;\n",
       "    }\n",
       "\n",
       "    .dataframe tbody tr th {\n",
       "        vertical-align: top;\n",
       "    }\n",
       "\n",
       "    .dataframe thead th {\n",
       "        text-align: right;\n",
       "    }\n",
       "</style>\n",
       "<table border=\"1\" class=\"dataframe\">\n",
       "  <thead>\n",
       "    <tr style=\"text-align: right;\">\n",
       "      <th></th>\n",
       "      <th>Date posted</th>\n",
       "      <th>count</th>\n",
       "      <th>count_linear</th>\n",
       "    </tr>\n",
       "  </thead>\n",
       "  <tbody>\n",
       "    <tr>\n",
       "      <th>0</th>\n",
       "      <td>2016-03-31</td>\n",
       "      <td>1.0</td>\n",
       "      <td>1.0</td>\n",
       "    </tr>\n",
       "    <tr>\n",
       "      <th>1</th>\n",
       "      <td>2016-04-30</td>\n",
       "      <td>1.0</td>\n",
       "      <td>1.0</td>\n",
       "    </tr>\n",
       "    <tr>\n",
       "      <th>2</th>\n",
       "      <td>2016-05-31</td>\n",
       "      <td>0.0</td>\n",
       "      <td>1.0</td>\n",
       "    </tr>\n",
       "    <tr>\n",
       "      <th>3</th>\n",
       "      <td>2016-06-30</td>\n",
       "      <td>0.0</td>\n",
       "      <td>1.0</td>\n",
       "    </tr>\n",
       "    <tr>\n",
       "      <th>4</th>\n",
       "      <td>2016-07-31</td>\n",
       "      <td>0.0</td>\n",
       "      <td>1.0</td>\n",
       "    </tr>\n",
       "  </tbody>\n",
       "</table>\n",
       "</div>"
      ],
      "text/plain": [
       "  Date posted  count  count_linear\n",
       "0  2016-03-31    1.0           1.0\n",
       "1  2016-04-30    1.0           1.0\n",
       "2  2016-05-31    0.0           1.0\n",
       "3  2016-06-30    0.0           1.0\n",
       "4  2016-07-31    0.0           1.0"
      ]
     },
     "execution_count": 4,
     "metadata": {},
     "output_type": "execute_result"
    }
   ],
   "source": [
    "from calendar import month_name as mn\n",
    "import matplotlib.dates as mdates\n",
    "import numpy as np\n",
    "\n",
    "grouped_df = df.groupby('Date posted').size().reset_index(name='count')\n",
    "grouped_df.set_index(['Date posted'], inplace = True)\n",
    "count_monthly = grouped_df[['count']].resample('M').sum()  #resample by months\n",
    "count_monthly.reset_index(inplace=True)\n",
    "\n",
    "count_monthly['count'] = count_monthly['count'].replace(0, np.NaN)\n",
    "count_monthly['count_linear'] = count_monthly['count'].interpolate(method='linear')\n",
    "count_monthly['count'] = count_monthly['count'].replace(np.NaN, 0)\n",
    "\n",
    "count_monthly.head()"
   ]
  },
  {
   "attachments": {},
   "cell_type": "markdown",
   "metadata": {},
   "source": [
    "<p> Divide the data set into pre-election and election period</p>"
   ]
  },
  {
   "cell_type": "code",
   "execution_count": 5,
   "metadata": {},
   "outputs": [
    {
     "name": "stdout",
     "output_type": "stream",
     "text": [
      "(70, 3)\n",
      "(12, 3)\n"
     ]
    }
   ],
   "source": [
    "cutoff_date = pd.to_datetime('2022-01-09')\n",
    "pre_election = count_monthly[count_monthly['Date posted'] < cutoff_date]\n",
    "election = count_monthly[count_monthly['Date posted'] >= cutoff_date]\n",
    "print(pre_election.shape)\n",
    "print(election.shape)"
   ]
  },
  {
   "attachments": {},
   "cell_type": "markdown",
   "metadata": {},
   "source": [
    "<p> Perform Shapiro-Wilk Test for normality </p>"
   ]
  },
  {
   "cell_type": "code",
   "execution_count": 6,
   "metadata": {},
   "outputs": [
    {
     "name": "stdout",
     "output_type": "stream",
     "text": [
      "Pre election statistic: 0.6474336981773376 , Pre election p-value: 1.0999267469058438e-11\n",
      "Elec statistic: 0.8453301191329956 , Elec p-value: 0.03216327726840973\n"
     ]
    }
   ],
   "source": [
    "from scipy.stats import shapiro\n",
    "\n",
    "pre_elec_statistic, pre_elec_p_val = shapiro(pre_election['count_linear'])\n",
    "elec_statistic, elec_p_val = shapiro(election['count_linear'])\n",
    "print(f\"Pre election statistic: {pre_elec_statistic} , Pre election p-value: {pre_elec_p_val}\")\n",
    "print(f\"Elec statistic: {elec_statistic} , Elec p-value: {elec_p_val}\")"
   ]
  },
  {
   "attachments": {},
   "cell_type": "markdown",
   "metadata": {},
   "source": [
    "<p> Since both pre-election and election periods have a p-value of less than the significance level of 0.05, we reject the null hypothesis of the Shapiro-Wilk Test for both. Thus, the samples from both periods do not follow a normal distribution. This means that we cannot perform an independent samples t-test because we fail onee of its assumptions which is normality of data. Hence, we now use a non-parametric test, specifically a Mann-Whitney U-Test"
   ]
  },
  {
   "attachments": {},
   "cell_type": "markdown",
   "metadata": {},
   "source": [
    "<p> We check the assumptions for the Mann-Whitney U-test: https://statistics.laerd.com/statistical-guides/mann-whitney-u-test-assumptions.php</p>"
   ]
  },
  {
   "attachments": {},
   "cell_type": "markdown",
   "metadata": {},
   "source": [
    "<p> For assumption#1, we indeed have one dependent variable that is measured at the continuous or ordinal level which is the frequency of tweets named count_linear."
   ]
  },
  {
   "cell_type": "code",
   "execution_count": 7,
   "metadata": {},
   "outputs": [
    {
     "name": "stdout",
     "output_type": "stream",
     "text": [
      "Pre-election:\n",
      "0    1.0\n",
      "1    1.0\n",
      "2    1.0\n",
      "3    1.0\n",
      "4    1.0\n",
      "Name: count_linear, dtype: float64\n",
      "Election:\n",
      "70    1.0\n",
      "71    1.0\n",
      "72    1.0\n",
      "73    3.0\n",
      "74    7.0\n",
      "Name: count_linear, dtype: float64\n"
     ]
    }
   ],
   "source": [
    "print(\"Pre-election:\")\n",
    "print(pre_election['count_linear'].head())\n",
    "print(\"Election:\")\n",
    "print(election['count_linear'].head())"
   ]
  },
  {
   "attachments": {},
   "cell_type": "markdown",
   "metadata": {},
   "source": [
    "<p> For assumption#2, we have one independent variable (Date posted) that consists of two categorical, independent groups (pre-election and election period)."
   ]
  },
  {
   "attachments": {},
   "cell_type": "markdown",
   "metadata": {},
   "source": [
    "For assumption#3, we have independence of observations, which means that there is no relationship between the observations in each group of the independent variable or between the groups themselves."
   ]
  },
  {
   "cell_type": "code",
   "execution_count": 8,
   "metadata": {},
   "outputs": [
    {
     "name": "stdout",
     "output_type": "stream",
     "text": [
      "pre-election dates duplicates: 0\n",
      "election dates duplicates: 0\n"
     ]
    }
   ],
   "source": [
    "#we already know that the two periods have different dates since we have divided the dataset earlier\n",
    "#check for any duplicates in the dates posted in each period\n",
    "print(f\"pre-election dates duplicates: {pre_election['Date posted'].duplicated().sum()}\")\n",
    "print(f\"election dates duplicates: {election['Date posted'].duplicated().sum()}\")"
   ]
  },
  {
   "attachments": {},
   "cell_type": "markdown",
   "metadata": {},
   "source": [
    "For assumption#4, we check if the distributions have the same shape by plotting a histogram"
   ]
  },
  {
   "cell_type": "code",
   "execution_count": 14,
   "metadata": {},
   "outputs": [
    {
     "data": {
      "image/png": "[encoded data removed]",
      "text/plain": [
       "<Figure size 640x480 with 1 Axes>"
      ]
     },
     "metadata": {},
     "output_type": "display_data"
    }
   ],
   "source": [
    "sns.set(rc={'axes.facecolor':'#2a3035','axes.grid': False, 'figure.facecolor': '#343a3f', 'xtick.color': '#f3f3f3', 'ytick.color': '#f3f3f3', 'text.color': '#f3f3f3', 'axes.labelcolor': '#f3f3f3'})\n",
    "sns.histplot(pre_election['Date posted'].dropna(), kde=True, color ='#fd6a8d').set_title('Pre-election')\n",
    "plt.show()"
   ]
  },
  {
   "cell_type": "code",
   "execution_count": 15,
   "metadata": {},
   "outputs": [
    {
     "data": {
      "image/png": "[encoded data removed]",
      "text/plain": [
       "<Figure size 640x480 with 1 Axes>"
      ]
     },
     "metadata": {},
     "output_type": "display_data"
    }
   ],
   "source": [
    "sns.set(rc={'axes.facecolor':'#2a3035','axes.grid': False, 'figure.facecolor': '#343a3f', 'xtick.color': '#f3f3f3', 'ytick.color': '#f3f3f3', 'text.color': '#f3f3f3', 'axes.labelcolor': '#f3f3f3'})\n",
    "sns.histplot(election['Date posted'].dropna(), kde=True, color ='#fd6a8d').set_title('Election')\n",
    "plt.show()"
   ]
  },
  {
   "attachments": {},
   "cell_type": "markdown",
   "metadata": {},
   "source": [
    "<p> We now proceed to perform the Mann-Whitney U Test since we have validated all the assumptions for the said test </p"
   ]
  },
  {
   "cell_type": "code",
   "execution_count": 11,
   "metadata": {},
   "outputs": [
    {
     "name": "stdout",
     "output_type": "stream",
     "text": [
      "Mann-Whitney U statistic: 309.0\n",
      "p-value: 0.13213040911795965\n"
     ]
    }
   ],
   "source": [
    "from scipy.stats import mannwhitneyu\n",
    "\n",
    "# Perform the Mann-Whitney U test\n",
    "statistic, p_value = mannwhitneyu(pre_election['count_linear'], election['count_linear'], alternative = 'two-sided')\n",
    "\n",
    "# Output the test results\n",
    "print(\"Mann-Whitney U statistic:\", statistic)\n",
    "print(\"p-value:\", p_value)"
   ]
  },
  {
   "cell_type": "code",
   "execution_count": 12,
   "metadata": {},
   "outputs": [
    {
     "name": "stdout",
     "output_type": "stream",
     "text": [
      "Model Evaluation\n",
      "\n",
      "Linear Regression: RMSE=2.03, R2=0.10\n",
      "P(x1): 0.008443919444287644\n",
      "There is a significant relationship between the predictor and the response\n",
      "\n",
      "Model Evaluation\n",
      "\n",
      "Linear Regression: RMSE=2.56, R2=0.10\n",
      "P(x1): 0.3292329790507019\n",
      "There is no significant relationship between the predictor and the response\n",
      "\n",
      "The slope of the regression model is:  1.2548624950392943e-08\n",
      "The slope of the regression model is:  9.131352114830151e-08\n"
     ]
    },
    {
     "data": {
      "application/vnd.plotly.v1+json": {
       "config": {
        "plotlyServerURL": "https://plot.ly"
       },
       "data": [
        {
         "marker": {
          "color": "#333333",
          "opacity": 0.7
         },
         "mode": "markers",
         "name": "Actual",
         "type": "scatter",
         "x": [
          "2016-03-31",
          "2016-04-30",
          "2016-05-31",
          "2016-06-30",
          "2016-07-31",
          "2016-08-31",
          "2016-09-30",
          "2016-10-31",
          "2016-11-30",
          "2016-12-31",
          "2017-01-31",
          "2017-02-28",
          "2017-03-31",
          "2017-04-30",
          "2017-05-31",
          "2017-06-30",
          "2017-07-31",
          "2017-08-31",
          "2017-09-30",
          "2017-10-31",
          "2017-11-30",
          "2017-12-31",
          "2018-01-31",
          "2018-02-28",
          "2018-03-31",
          "2018-04-30",
          "2018-05-31",
          "2018-06-30",
          "2018-07-31",
          "2018-08-31",
          "2018-09-30",
          "2018-10-31",
          "2018-11-30",
          "2018-12-31",
          "2019-01-31",
          "2019-02-28",
          "2019-03-31",
          "2019-04-30",
          "2019-05-31",
          "2019-06-30",
          "2019-07-31",
          "2019-08-31",
          "2019-09-30",
          "2019-10-31",
          "2019-11-30",
          "2019-12-31",
          "2020-01-31",
          "2020-02-29",
          "2020-03-31",
          "2020-04-30",
          "2020-05-31",
          "2020-06-30",
          "2020-07-31",
          "2020-08-31",
          "2020-09-30",
          "2020-10-31",
          "2020-11-30",
          "2020-12-31",
          "2021-01-31",
          "2021-02-28",
          "2021-03-31",
          "2021-04-30",
          "2021-05-31",
          "2021-06-30",
          "2021-07-31",
          "2021-08-31",
          "2021-09-30",
          "2021-10-31",
          "2021-11-30",
          "2021-12-31"
         ],
         "y": [
          1,
          1,
          1,
          1,
          1,
          1,
          1,
          1,
          1,
          1,
          1,
          1,
          1,
          1,
          1,
          1,
          2,
          3,
          5,
          4,
          3,
          2,
          1.6666666666666667,
          1.3333333333333335,
          1,
          1,
          1,
          5,
          1,
          2,
          2,
          1,
          3,
          2.3333333333333335,
          1.6666666666666667,
          1,
          2.25,
          3.5,
          4.75,
          6,
          4,
          2,
          1.5,
          1,
          2,
          3,
          4,
          5,
          6,
          2,
          4,
          2,
          6,
          15,
          1,
          2,
          1,
          1,
          2,
          2,
          1,
          2,
          2,
          1,
          3,
          2,
          5,
          6,
          2,
          1
         ]
        },
        {
         "line": {
          "color": "#66E5CC",
          "dash": "dash",
          "width": 4
         },
         "mode": "lines",
         "name": "LR",
         "type": "scatter",
         "x": [
          "2016-03-31",
          "2016-04-30",
          "2016-05-31",
          "2016-06-30",
          "2016-07-31",
          "2016-08-31",
          "2016-09-30",
          "2016-10-31",
          "2016-11-30",
          "2016-12-31",
          "2017-01-31",
          "2017-02-28",
          "2017-03-31",
          "2017-04-30",
          "2017-05-31",
          "2017-06-30",
          "2017-07-31",
          "2017-08-31",
          "2017-09-30",
          "2017-10-31",
          "2017-11-30",
          "2017-12-31",
          "2018-01-31",
          "2018-02-28",
          "2018-03-31",
          "2018-04-30",
          "2018-05-31",
          "2018-06-30",
          "2018-07-31",
          "2018-08-31",
          "2018-09-30",
          "2018-10-31",
          "2018-11-30",
          "2018-12-31",
          "2019-01-31",
          "2019-02-28",
          "2019-03-31",
          "2019-04-30",
          "2019-05-31",
          "2019-06-30",
          "2019-07-31",
          "2019-08-31",
          "2019-09-30",
          "2019-10-31",
          "2019-11-30",
          "2019-12-31",
          "2020-01-31",
          "2020-02-29",
          "2020-03-31",
          "2020-04-30",
          "2020-05-31",
          "2020-06-30",
          "2020-07-31",
          "2020-08-31",
          "2020-09-30",
          "2020-10-31",
          "2020-11-30",
          "2020-12-31",
          "2021-01-31",
          "2021-02-28",
          "2021-03-31",
          "2021-04-30",
          "2021-05-31",
          "2021-06-30",
          "2021-07-31",
          "2021-08-31",
          "2021-09-30",
          "2021-10-31",
          "2021-11-30",
          "2021-12-31"
         ],
         "y": [
          1.261418370026739,
          1.2939444058981557,
          1.3275546429652891,
          1.3600806788367095,
          1.3936909159038393,
          1.4273011529709727,
          1.459827188842393,
          1.4934374259095229,
          1.5259634617809432,
          1.5595736988480766,
          1.5931839359152065,
          1.6235415693951971,
          1.6571518064623305,
          1.6896778423337508,
          1.7232880794008807,
          1.755814115272301,
          1.7894243523394344,
          1.8230345894065643,
          1.8555606252779846,
          1.8891708623451144,
          1.9216968982165348,
          1.9553071352836682,
          1.988917372350798,
          2.0192750058307887,
          2.052885242897922,
          2.0854112787693424,
          2.1190215158364722,
          2.1515475517078926,
          2.185157788775026,
          2.218768025842156,
          2.251294061713576,
          2.2849042987807096,
          2.3174303346521263,
          2.3510405717192597,
          2.384650808786393,
          2.415008442266384,
          2.4486186793335136,
          2.481144715204934,
          2.514754952272064,
          2.547280988143484,
          2.5808912252106175,
          2.6145014622777474,
          2.6470274981491677,
          2.680637735216301,
          2.713163771087718,
          2.7467740081548513,
          2.7803842452219847,
          2.8118260798976884,
          2.845436316964822,
          2.8779623528362386,
          2.911572589903372,
          2.9440986257747888,
          2.977708862841922,
          3.0113190999090556,
          3.0438451357804723,
          3.0774553728476057,
          3.1099814087190225,
          3.143591645786156,
          3.1772018828532893,
          3.20755951633328,
          3.2411697534004134,
          3.27369578927183,
          3.3073060263389635,
          3.3398320622103803,
          3.3734422992775137,
          3.407052536344647,
          3.439578572216064,
          3.4731888092831973,
          3.5057148451546176,
          3.5393250822217475
         ]
        },
        {
         "marker": {
          "color": "#73bbd4",
          "opacity": 1
         },
         "mode": "markers",
         "name": "Actual",
         "type": "scatter",
         "x": [
          "2022-01-31",
          "2022-02-28",
          "2022-03-31",
          "2022-04-30",
          "2022-05-31",
          "2022-06-30",
          "2022-07-31",
          "2022-08-31",
          "2022-09-30",
          "2022-10-31",
          "2022-11-30",
          "2022-12-31"
         ],
         "y": [
          1,
          1,
          1,
          3,
          7,
          3,
          10,
          4,
          1,
          3,
          6,
          3
         ]
        },
        {
         "line": {
          "color": "#dfb0b0",
          "width": 4
         },
         "mode": "lines",
         "name": "LR",
         "type": "scatter",
         "x": [
          "2022-01-31",
          "2022-02-28",
          "2022-03-31",
          "2022-04-30",
          "2022-05-31",
          "2022-06-30",
          "2022-07-31",
          "2022-08-31",
          "2022-09-30",
          "2022-10-31",
          "2022-11-30",
          "2022-12-31"
         ],
         "y": [
          2.274335744968198,
          2.4952414153301845,
          2.739815550373777,
          2.9765001971901768,
          3.2210743322337976,
          3.4577589790501975,
          3.70233311409379,
          3.9469072491374106,
          4.1835918959538105,
          4.428166030997431,
          4.664850677813803,
          4.909424812857424
         ]
        }
       ],
       "layout": {
        "height": 600,
        "plot_bgcolor": "#f8f8f8",
        "shapes": [
         {
          "line": {
           "color": "#333333",
           "dash": "dot",
           "width": 3
          },
          "type": "line",
          "x0": "2021-12-31",
          "x1": "2021-12-31",
          "xref": "x",
          "y0": 0,
          "y1": 1,
          "yref": "y domain"
         }
        ],
        "showlegend": true,
        "template": {
         "data": {
          "bar": [
           {
            "error_x": {
             "color": "#2a3f5f"
            },
            "error_y": {
             "color": "#2a3f5f"
            },
            "marker": {
             "line": {
              "color": "#E5ECF6",
              "width": 0.5
             },
             "pattern": {
              "fillmode": "overlay",
              "size": 10,
              "solidity": 0.2
             }
            },
            "type": "bar"
           }
          ],
          "barpolar": [
           {
            "marker": {
             "line": {
              "color": "#E5ECF6",
              "width": 0.5
             },
             "pattern": {
              "fillmode": "overlay",
              "size": 10,
              "solidity": 0.2
             }
            },
            "type": "barpolar"
           }
          ],
          "carpet": [
           {
            "aaxis": {
             "endlinecolor": "#2a3f5f",
             "gridcolor": "white",
             "linecolor": "white",
             "minorgridcolor": "white",
             "startlinecolor": "#2a3f5f"
            },
            "baxis": {
             "endlinecolor": "#2a3f5f",
             "gridcolor": "white",
             "linecolor": "white",
             "minorgridcolor": "white",
             "startlinecolor": "#2a3f5f"
            },
            "type": "carpet"
           }
          ],
          "choropleth": [
           {
            "colorbar": {
             "outlinewidth": 0,
             "ticks": ""
            },
            "type": "choropleth"
           }
          ],
          "contour": [
           {
            "colorbar": {
             "outlinewidth": 0,
             "ticks": ""
            },
            "colorscale": [
             [
              0,
              "#0d0887"
             ],
             [
              0.1111111111111111,
              "#46039f"
             ],
             [
              0.2222222222222222,
              "#7201a8"
             ],
             [
              0.3333333333333333,
              "#9c179e"
             ],
             [
              0.4444444444444444,
              "#bd3786"
             ],
             [
              0.5555555555555556,
              "#d8576b"
             ],
             [
              0.6666666666666666,
              "#ed7953"
             ],
             [
              0.7777777777777778,
              "#fb9f3a"
             ],
             [
              0.8888888888888888,
              "#fdca26"
             ],
             [
              1,
              "#f0f921"
             ]
            ],
            "type": "contour"
           }
          ],
          "contourcarpet": [
           {
            "colorbar": {
             "outlinewidth": 0,
             "ticks": ""
            },
            "type": "contourcarpet"
           }
          ],
          "heatmap": [
           {
            "colorbar": {
             "outlinewidth": 0,
             "ticks": ""
            },
            "colorscale": [
             [
              0,
              "#0d0887"
             ],
             [
              0.1111111111111111,
              "#46039f"
             ],
             [
              0.2222222222222222,
              "#7201a8"
             ],
             [
              0.3333333333333333,
              "#9c179e"
             ],
             [
              0.4444444444444444,
              "#bd3786"
             ],
             [
              0.5555555555555556,
              "#d8576b"
             ],
             [
              0.6666666666666666,
              "#ed7953"
             ],
             [
              0.7777777777777778,
              "#fb9f3a"
             ],
             [
              0.8888888888888888,
              "#fdca26"
             ],
             [
              1,
              "#f0f921"
             ]
            ],
            "type": "heatmap"
           }
          ],
          "heatmapgl": [
           {
            "colorbar": {
             "outlinewidth": 0,
             "ticks": ""
            },
            "colorscale": [
             [
              0,
              "#0d0887"
             ],
             [
              0.1111111111111111,
              "#46039f"
             ],
             [
              0.2222222222222222,
              "#7201a8"
             ],
             [
              0.3333333333333333,
              "#9c179e"
             ],
             [
              0.4444444444444444,
              "#bd3786"
             ],
             [
              0.5555555555555556,
              "#d8576b"
             ],
             [
              0.6666666666666666,
              "#ed7953"
             ],
             [
              0.7777777777777778,
              "#fb9f3a"
             ],
             [
              0.8888888888888888,
              "#fdca26"
             ],
             [
              1,
              "#f0f921"
             ]
            ],
            "type": "heatmapgl"
           }
          ],
          "histogram": [
           {
            "marker": {
             "pattern": {
              "fillmode": "overlay",
              "size": 10,
              "solidity": 0.2
             }
            },
            "type": "histogram"
           }
          ],
          "histogram2d": [
           {
            "colorbar": {
             "outlinewidth": 0,
             "ticks": ""
            },
            "colorscale": [
             [
              0,
              "#0d0887"
             ],
             [
              0.1111111111111111,
              "#46039f"
             ],
             [
              0.2222222222222222,
              "#7201a8"
             ],
             [
              0.3333333333333333,
              "#9c179e"
             ],
             [
              0.4444444444444444,
              "#bd3786"
             ],
             [
              0.5555555555555556,
              "#d8576b"
             ],
             [
              0.6666666666666666,
              "#ed7953"
             ],
             [
              0.7777777777777778,
              "#fb9f3a"
             ],
             [
              0.8888888888888888,
              "#fdca26"
             ],
             [
              1,
              "#f0f921"
             ]
            ],
            "type": "histogram2d"
           }
          ],
          "histogram2dcontour": [
           {
            "colorbar": {
             "outlinewidth": 0,
             "ticks": ""
            },
            "colorscale": [
             [
              0,
              "#0d0887"
             ],
             [
              0.1111111111111111,
              "#46039f"
             ],
             [
              0.2222222222222222,
              "#7201a8"
             ],
             [
              0.3333333333333333,
              "#9c179e"
             ],
             [
              0.4444444444444444,
              "#bd3786"
             ],
             [
              0.5555555555555556,
              "#d8576b"
             ],
             [
              0.6666666666666666,
              "#ed7953"
             ],
             [
              0.7777777777777778,
              "#fb9f3a"
             ],
             [
              0.8888888888888888,
              "#fdca26"
             ],
             [
              1,
              "#f0f921"
             ]
            ],
            "type": "histogram2dcontour"
           }
          ],
          "mesh3d": [
           {
            "colorbar": {
             "outlinewidth": 0,
             "ticks": ""
            },
            "type": "mesh3d"
           }
          ],
          "parcoords": [
           {
            "line": {
             "colorbar": {
              "outlinewidth": 0,
              "ticks": ""
             }
            },
            "type": "parcoords"
           }
          ],
          "pie": [
           {
            "automargin": true,
            "type": "pie"
           }
          ],
          "scatter": [
           {
            "fillpattern": {
             "fillmode": "overlay",
             "size": 10,
             "solidity": 0.2
            },
            "type": "scatter"
           }
          ],
          "scatter3d": [
           {
            "line": {
             "colorbar": {
              "outlinewidth": 0,
              "ticks": ""
             }
            },
            "marker": {
             "colorbar": {
              "outlinewidth": 0,
              "ticks": ""
             }
            },
            "type": "scatter3d"
           }
          ],
          "scattercarpet": [
           {
            "marker": {
             "colorbar": {
              "outlinewidth": 0,
              "ticks": ""
             }
            },
            "type": "scattercarpet"
           }
          ],
          "scattergeo": [
           {
            "marker": {
             "colorbar": {
              "outlinewidth": 0,
              "ticks": ""
             }
            },
            "type": "scattergeo"
           }
          ],
          "scattergl": [
           {
            "marker": {
             "colorbar": {
              "outlinewidth": 0,
              "ticks": ""
             }
            },
            "type": "scattergl"
           }
          ],
          "scattermapbox": [
           {
            "marker": {
             "colorbar": {
              "outlinewidth": 0,
              "ticks": ""
             }
            },
            "type": "scattermapbox"
           }
          ],
          "scatterpolar": [
           {
            "marker": {
             "colorbar": {
              "outlinewidth": 0,
              "ticks": ""
             }
            },
            "type": "scatterpolar"
           }
          ],
          "scatterpolargl": [
           {
            "marker": {
             "colorbar": {
              "outlinewidth": 0,
              "ticks": ""
             }
            },
            "type": "scatterpolargl"
           }
          ],
          "scatterternary": [
           {
            "marker": {
             "colorbar": {
              "outlinewidth": 0,
              "ticks": ""
             }
            },
            "type": "scatterternary"
           }
          ],
          "surface": [
           {
            "colorbar": {
             "outlinewidth": 0,
             "ticks": ""
            },
            "colorscale": [
             [
              0,
              "#0d0887"
             ],
             [
              0.1111111111111111,
              "#46039f"
             ],
             [
              0.2222222222222222,
              "#7201a8"
             ],
             [
              0.3333333333333333,
              "#9c179e"
             ],
             [
              0.4444444444444444,
              "#bd3786"
             ],
             [
              0.5555555555555556,
              "#d8576b"
             ],
             [
              0.6666666666666666,
              "#ed7953"
             ],
             [
              0.7777777777777778,
              "#fb9f3a"
             ],
             [
              0.8888888888888888,
              "#fdca26"
             ],
             [
              1,
              "#f0f921"
             ]
            ],
            "type": "surface"
           }
          ],
          "table": [
           {
            "cells": {
             "fill": {
              "color": "#EBF0F8"
             },
             "line": {
              "color": "white"
             }
            },
            "header": {
             "fill": {
              "color": "#C8D4E3"
             },
             "line": {
              "color": "white"
             }
            },
            "type": "table"
           }
          ]
         },
         "layout": {
          "annotationdefaults": {
           "arrowcolor": "#2a3f5f",
           "arrowhead": 0,
           "arrowwidth": 1
          },
          "autotypenumbers": "strict",
          "coloraxis": {
           "colorbar": {
            "outlinewidth": 0,
            "ticks": ""
           }
          },
          "colorscale": {
           "diverging": [
            [
             0,
             "#8e0152"
            ],
            [
             0.1,
             "#c51b7d"
            ],
            [
             0.2,
             "#de77ae"
            ],
            [
             0.3,
             "#f1b6da"
            ],
            [
             0.4,
             "#fde0ef"
            ],
            [
             0.5,
             "#f7f7f7"
            ],
            [
             0.6,
             "#e6f5d0"
            ],
            [
             0.7,
             "#b8e186"
            ],
            [
             0.8,
             "#7fbc41"
            ],
            [
             0.9,
             "#4d9221"
            ],
            [
             1,
             "#276419"
            ]
           ],
           "sequential": [
            [
             0,
             "#0d0887"
            ],
            [
             0.1111111111111111,
             "#46039f"
            ],
            [
             0.2222222222222222,
             "#7201a8"
            ],
            [
             0.3333333333333333,
             "#9c179e"
            ],
            [
             0.4444444444444444,
             "#bd3786"
            ],
            [
             0.5555555555555556,
             "#d8576b"
            ],
            [
             0.6666666666666666,
             "#ed7953"
            ],
            [
             0.7777777777777778,
             "#fb9f3a"
            ],
            [
             0.8888888888888888,
             "#fdca26"
            ],
            [
             1,
             "#f0f921"
            ]
           ],
           "sequentialminus": [
            [
             0,
             "#0d0887"
            ],
            [
             0.1111111111111111,
             "#46039f"
            ],
            [
             0.2222222222222222,
             "#7201a8"
            ],
            [
             0.3333333333333333,
             "#9c179e"
            ],
            [
             0.4444444444444444,
             "#bd3786"
            ],
            [
             0.5555555555555556,
             "#d8576b"
            ],
            [
             0.6666666666666666,
             "#ed7953"
            ],
            [
             0.7777777777777778,
             "#fb9f3a"
            ],
            [
             0.8888888888888888,
             "#fdca26"
            ],
            [
             1,
             "#f0f921"
            ]
           ]
          },
          "colorway": [
           "#636efa",
           "#EF553B",
           "#00cc96",
           "#ab63fa",
           "#FFA15A",
           "#19d3f3",
           "#FF6692",
           "#B6E880",
           "#FF97FF",
           "#FECB52"
          ],
          "font": {
           "color": "#2a3f5f"
          },
          "geo": {
           "bgcolor": "white",
           "lakecolor": "white",
           "landcolor": "#E5ECF6",
           "showlakes": true,
           "showland": true,
           "subunitcolor": "white"
          },
          "hoverlabel": {
           "align": "left"
          },
          "hovermode": "closest",
          "mapbox": {
           "style": "light"
          },
          "paper_bgcolor": "white",
          "plot_bgcolor": "#E5ECF6",
          "polar": {
           "angularaxis": {
            "gridcolor": "white",
            "linecolor": "white",
            "ticks": ""
           },
           "bgcolor": "#E5ECF6",
           "radialaxis": {
            "gridcolor": "white",
            "linecolor": "white",
            "ticks": ""
           }
          },
          "scene": {
           "xaxis": {
            "backgroundcolor": "#E5ECF6",
            "gridcolor": "white",
            "gridwidth": 2,
            "linecolor": "white",
            "showbackground": true,
            "ticks": "",
            "zerolinecolor": "white"
           },
           "yaxis": {
            "backgroundcolor": "#E5ECF6",
            "gridcolor": "white",
            "gridwidth": 2,
            "linecolor": "white",
            "showbackground": true,
            "ticks": "",
            "zerolinecolor": "white"
           },
           "zaxis": {
            "backgroundcolor": "#E5ECF6",
            "gridcolor": "white",
            "gridwidth": 2,
            "linecolor": "white",
            "showbackground": true,
            "ticks": "",
            "zerolinecolor": "white"
           }
          },
          "shapedefaults": {
           "line": {
            "color": "#2a3f5f"
           }
          },
          "ternary": {
           "aaxis": {
            "gridcolor": "white",
            "linecolor": "white",
            "ticks": ""
           },
           "baxis": {
            "gridcolor": "white",
            "linecolor": "white",
            "ticks": ""
           },
           "bgcolor": "#E5ECF6",
           "caxis": {
            "gridcolor": "white",
            "linecolor": "white",
            "ticks": ""
           }
          },
          "title": {
           "x": 0.05
          },
          "xaxis": {
           "automargin": true,
           "gridcolor": "white",
           "linecolor": "white",
           "ticks": "",
           "title": {
            "standoff": 15
           },
           "zerolinecolor": "white",
           "zerolinewidth": 2
          },
          "yaxis": {
           "automargin": true,
           "gridcolor": "white",
           "linecolor": "white",
           "ticks": "",
           "title": {
            "standoff": 15
           },
           "zerolinecolor": "white",
           "zerolinewidth": 2
          }
         }
        },
        "title": {
         "text": "<b>Linear Regression Model for Risa Tweets Count</b>"
        },
        "xaxis": {
         "title": {
          "text": "<b>Date</b>"
         }
        },
        "yaxis": {
         "title": {
          "text": "<b>Tweet Count</b>"
         }
        }
       }
      }
     },
     "metadata": {},
     "output_type": "display_data"
    }
   ],
   "source": [
    "#linear regression\n",
    "from sklearn.linear_model import LinearRegression\n",
    "from sklearn.metrics import r2_score, mean_squared_error\n",
    "\n",
    "import statsmodels.api as sm\n",
    "\n",
    "# Convert datetime to int\n",
    "x = pre_election['Date posted'].astype('int64') / 10**9  # Convert to seconds (UNIX epoch start)\n",
    "x = x.values.reshape(-1, 1)\n",
    "\n",
    "y = pre_election['count_linear']\n",
    "\n",
    "o = election['Date posted'].astype('int64') / 10**9\n",
    "o = o.values.reshape(-1, 1)\n",
    "f = election['count_linear']\n",
    "\n",
    "#--------------------------------------------------------------\n",
    "# Linear regression model\n",
    "#--------------------------------------------------------------\n",
    "# Stastical approach\n",
    "x_lms = sm.add_constant(x)\n",
    "linear_model_stat = sm.OLS(y, x_lms)\n",
    "lms_results = linear_model_stat.fit()\n",
    "p_values = lms_results.pvalues[1:]\n",
    "\n",
    "o_lms = sm.add_constant(o)\n",
    "linear_model_stat_elec = sm.OLS(f, o_lms)\n",
    "lms_results_elec = linear_model_stat_elec.fit()\n",
    "p_values_elec = lms_results_elec.pvalues[1:]\n",
    "\n",
    "# Machine learning approach (no p-values)\n",
    "linear_model = LinearRegression()\n",
    "linear_model.fit(x_lms, y)\n",
    "y_linear_pred = linear_model.predict(x_lms)\n",
    "Slope = linear_model.coef_[1]\n",
    "\n",
    "linear_model_elec = LinearRegression()\n",
    "linear_model_elec.fit(o_lms, f)\n",
    "f_linear_pred = linear_model_elec.predict(o_lms)\n",
    "Slope_elec = linear_model_elec.coef_[1]\n",
    "\n",
    "# Calculate R2 and RMSE for linear regression model\n",
    "linear_r2 = r2_score(y, y_linear_pred)\n",
    "linear_rmse = np.sqrt(mean_squared_error(y, y_linear_pred))\n",
    "\n",
    "linear_r2_elec = r2_score(f, f_linear_pred)\n",
    "linear_rmse_elec = np.sqrt(mean_squared_error(f, f_linear_pred))\n",
    "\n",
    "print(\"Model Evaluation\")\n",
    "print(\"\\nLinear Regression: RMSE=%.2f, R2=%.2f\" % (linear_rmse, linear_r2))\n",
    "for i, p_value in enumerate(p_values.index):\n",
    "  print(f'P({p_value}): {p_values[i]}')\n",
    "\n",
    "if any(p_values <= 0.05):\n",
    "  print(\"There is a significant relationship between the predictor and the response\\n\")\n",
    "else:\n",
    "  print(\"There is no significant relationship between the predictor and the response\\n\")\n",
    "\n",
    "\n",
    "print(\"Model Evaluation\")\n",
    "print(\"\\nLinear Regression: RMSE=%.2f, R2=%.2f\" % (linear_rmse_elec, linear_r2_elec))\n",
    "for j, p_value_elec in enumerate(p_values_elec.index):\n",
    "  print(f'P({p_value_elec}): {p_values_elec[j]}')\n",
    "\n",
    "if any(p_values_elec <= 0.05):\n",
    "  print(\"There is a significant relationship between the predictor and the response\\n\")\n",
    "else:\n",
    "  print(\"There is no significant relationship between the predictor and the response\\n\") \n",
    "\n",
    "\n",
    "print(\"The slope of the regression model is: \", Slope)\n",
    "print(\"The slope of the regression model is: \", Slope_elec)\n",
    "\n",
    "# Plot the model\n",
    "import plotly.graph_objects as go\n",
    "\n",
    "xtt = pre_election['Date posted'].dt.strftime('%Y-%m-%d')\n",
    "scatter_actual = go.Scatter(x=xtt, y=y, mode='markers', name='Actual', marker=dict(color='#333333', opacity=0.7))\n",
    "\n",
    "line_regression = go.Scatter(x=xtt, y=y_linear_pred, mode='lines', name='LR', line=dict(color='#66E5CC', dash='dash', width = 4))\n",
    "\n",
    "xtt_elec = election['Date posted'].dt.strftime('%Y-%m-%d')\n",
    "scatter_actual_elec = go.Scatter(x=xtt_elec, y=f, mode='markers', name='Actual', marker=dict(color='#73bbd4', opacity=1))\n",
    "\n",
    "line_regression_elec = go.Scatter(x=xtt_elec, y=f_linear_pred, mode='lines', name='LR', line=dict(color='#dfb0b0', width=4) )\n",
    "\n",
    "data = [scatter_actual, line_regression, scatter_actual_elec, line_regression_elec]\n",
    "\n",
    "layout = go.Layout(xaxis=dict(title='<b>Date</b>'),\n",
    "                   yaxis=dict(title='<b>Tweet Count</b>'),\n",
    "                   title='<b>Linear Regression Model for Risa Tweets Count</b>',\n",
    "                   showlegend=True,\n",
    "                   height=600,\n",
    "                   plot_bgcolor=\"#f8f8f8\")\n",
    "\n",
    "\n",
    "fig = go.Figure(data=data, layout=layout)\n",
    "fig.add_vline(x = '2021-12-31', line_width = 3, line_dash = 'dot', line_color = '#333333')\n",
    "\n",
    "\n",
    "fig.show()"
   ]
  },
  {
   "cell_type": "code",
   "execution_count": 13,
   "metadata": {},
   "outputs": [
    {
     "name": "stdout",
     "output_type": "stream",
     "text": [
      "Model Evaluation\n",
      "\n",
      "Support Vector Regression: RMSE=2.75, R2=0.06\n",
      "Hyperparameters: Pipeline(steps=[('scaler', StandardScaler()), ('svr', SVR(C=100, gamma=1000))]) \n",
      "\n",
      "The slope of the regression model is:  1.2548624950392943e-08\n"
     ]
    },
    {
     "data": {
      "application/vnd.plotly.v1+json": {
       "config": {
        "plotlyServerURL": "https://plot.ly"
       },
       "data": [
        {
         "marker": {
          "color": "#73bbd4",
          "opacity": 1
         },
         "mode": "markers",
         "name": "Actual",
         "type": "scatter",
         "x": [
          "2016-03-31",
          "2016-04-30",
          "2016-05-31",
          "2016-06-30",
          "2016-07-31",
          "2016-08-31",
          "2016-09-30",
          "2016-10-31",
          "2016-11-30",
          "2016-12-31",
          "2017-01-31",
          "2017-02-28",
          "2017-03-31",
          "2017-04-30",
          "2017-05-31",
          "2017-06-30",
          "2017-07-31",
          "2017-08-31",
          "2017-09-30",
          "2017-10-31",
          "2017-11-30",
          "2017-12-31",
          "2018-01-31",
          "2018-02-28",
          "2018-03-31",
          "2018-04-30",
          "2018-05-31",
          "2018-06-30",
          "2018-07-31",
          "2018-08-31",
          "2018-09-30",
          "2018-10-31",
          "2018-11-30",
          "2018-12-31",
          "2019-01-31",
          "2019-02-28",
          "2019-03-31",
          "2019-04-30",
          "2019-05-31",
          "2019-06-30",
          "2019-07-31",
          "2019-08-31",
          "2019-09-30",
          "2019-10-31",
          "2019-11-30",
          "2019-12-31",
          "2020-01-31",
          "2020-02-29",
          "2020-03-31",
          "2020-04-30",
          "2020-05-31",
          "2020-06-30",
          "2020-07-31",
          "2020-08-31",
          "2020-09-30",
          "2020-10-31",
          "2020-11-30",
          "2020-12-31",
          "2021-01-31",
          "2021-02-28",
          "2021-03-31",
          "2021-04-30",
          "2021-05-31",
          "2021-06-30",
          "2021-07-31",
          "2021-08-31",
          "2021-09-30",
          "2021-10-31",
          "2021-11-30",
          "2021-12-31",
          "2022-01-31",
          "2022-02-28",
          "2022-03-31",
          "2022-04-30",
          "2022-05-31",
          "2022-06-30",
          "2022-07-31",
          "2022-08-31",
          "2022-09-30",
          "2022-10-31",
          "2022-11-30",
          "2022-12-31"
         ],
         "y": [
          1,
          1,
          1,
          1,
          1,
          1,
          1,
          1,
          1,
          1,
          1,
          1,
          1,
          1,
          1,
          1,
          2,
          3,
          5,
          4,
          3,
          2,
          1.6666666666666667,
          1.3333333333333335,
          1,
          1,
          1,
          5,
          1,
          2,
          2,
          1,
          3,
          2.3333333333333335,
          1.6666666666666667,
          1,
          2.25,
          3.5,
          4.75,
          6,
          4,
          2,
          1.5,
          1,
          2,
          3,
          4,
          5,
          6,
          2,
          4,
          2,
          6,
          15,
          1,
          2,
          1,
          1,
          2,
          2,
          1,
          2,
          2,
          1,
          3,
          2,
          5,
          6,
          2,
          1,
          1,
          1,
          1,
          3,
          7,
          3,
          10,
          4,
          1,
          3,
          6,
          3
         ]
        },
        {
         "line": {
          "color": "#FF5E84",
          "dash": "dash",
          "width": 4
         },
         "mode": "lines",
         "name": "LR",
         "type": "scatter",
         "x": [
          "2016-03-31",
          "2016-04-30",
          "2016-05-31",
          "2016-06-30",
          "2016-07-31",
          "2016-08-31",
          "2016-09-30",
          "2016-10-31",
          "2016-11-30",
          "2016-12-31",
          "2017-01-31",
          "2017-02-28",
          "2017-03-31",
          "2017-04-30",
          "2017-05-31",
          "2017-06-30",
          "2017-07-31",
          "2017-08-31",
          "2017-09-30",
          "2017-10-31",
          "2017-11-30",
          "2017-12-31",
          "2018-01-31",
          "2018-02-28",
          "2018-03-31",
          "2018-04-30",
          "2018-05-31",
          "2018-06-30",
          "2018-07-31",
          "2018-08-31",
          "2018-09-30",
          "2018-10-31",
          "2018-11-30",
          "2018-12-31",
          "2019-01-31",
          "2019-02-28",
          "2019-03-31",
          "2019-04-30",
          "2019-05-31",
          "2019-06-30",
          "2019-07-31",
          "2019-08-31",
          "2019-09-30",
          "2019-10-31",
          "2019-11-30",
          "2019-12-31",
          "2020-01-31",
          "2020-02-29",
          "2020-03-31",
          "2020-04-30",
          "2020-05-31",
          "2020-06-30",
          "2020-07-31",
          "2020-08-31",
          "2020-09-30",
          "2020-10-31",
          "2020-11-30",
          "2020-12-31",
          "2021-01-31",
          "2021-02-28",
          "2021-03-31",
          "2021-04-30",
          "2021-05-31",
          "2021-06-30",
          "2021-07-31",
          "2021-08-31",
          "2021-09-30",
          "2021-10-31",
          "2021-11-30",
          "2021-12-31",
          "2022-01-31",
          "2022-02-28",
          "2022-03-31",
          "2022-04-30",
          "2022-05-31",
          "2022-06-30",
          "2022-07-31",
          "2022-08-31",
          "2022-09-30",
          "2022-10-31",
          "2022-11-30",
          "2022-12-31"
         ],
         "y": [
          1.261418370026739,
          1.2939444058981557,
          1.3275546429652891,
          1.3600806788367095,
          1.3936909159038393,
          1.4273011529709727,
          1.459827188842393,
          1.4934374259095229,
          1.5259634617809432,
          1.5595736988480766,
          1.5931839359152065,
          1.6235415693951971,
          1.6571518064623305,
          1.6896778423337508,
          1.7232880794008807,
          1.755814115272301,
          1.7894243523394344,
          1.8230345894065643,
          1.8555606252779846,
          1.8891708623451144,
          1.9216968982165348,
          1.9553071352836682,
          1.988917372350798,
          2.0192750058307887,
          2.052885242897922,
          2.0854112787693424,
          2.1190215158364722,
          2.1515475517078926,
          2.185157788775026,
          2.218768025842156,
          2.251294061713576,
          2.2849042987807096,
          2.3174303346521263,
          2.3510405717192597,
          2.384650808786393,
          2.415008442266384,
          2.4486186793335136,
          2.481144715204934,
          2.514754952272064,
          2.547280988143484,
          2.5808912252106175,
          2.6145014622777474,
          2.6470274981491677,
          2.680637735216301,
          2.713163771087718,
          2.7467740081548513,
          2.7803842452219847,
          2.8118260798976884,
          2.845436316964822,
          2.8779623528362386,
          2.911572589903372,
          2.9440986257747888,
          2.977708862841922,
          3.0113190999090556,
          3.0438451357804723,
          3.0774553728476057,
          3.1099814087190225,
          3.143591645786156,
          3.1772018828532893,
          3.20755951633328,
          3.2411697534004134,
          3.27369578927183,
          3.3073060263389635,
          3.3398320622103803,
          3.3734422992775137,
          3.407052536344647,
          3.439578572216064,
          3.4731888092831973,
          3.5057148451546176,
          3.5393250822217475
         ]
        },
        {
         "line": {
          "color": "#dfb0b0",
          "width": 4
         },
         "mode": "lines",
         "name": "LR",
         "type": "scatter",
         "x": [
          "2022-01-31",
          "2022-02-28",
          "2022-03-31",
          "2022-04-30",
          "2022-05-31",
          "2022-06-30",
          "2022-07-31",
          "2022-08-31",
          "2022-09-30",
          "2022-10-31",
          "2022-11-30",
          "2022-12-31"
         ],
         "y": [
          2.274335744968198,
          2.4952414153301845,
          2.739815550373777,
          2.9765001971901768,
          3.2210743322337976,
          3.4577589790501975,
          3.70233311409379,
          3.9469072491374106,
          4.1835918959538105,
          4.428166030997431,
          4.664850677813803,
          4.909424812857424
         ]
        },
        {
         "line": {
          "color": "#f3f3f3",
          "width": 4
         },
         "mode": "lines",
         "name": "SVR",
         "type": "scatter",
         "x": [
          "2016-03-31",
          "2016-04-30",
          "2016-05-31",
          "2016-06-30",
          "2016-07-31",
          "2016-08-31",
          "2016-09-30",
          "2016-10-31",
          "2016-11-30",
          "2016-12-31",
          "2017-01-31",
          "2017-02-28",
          "2017-03-31",
          "2017-04-30",
          "2017-05-31",
          "2017-06-30",
          "2017-07-31",
          "2017-08-31",
          "2017-09-30",
          "2017-10-31",
          "2017-11-30",
          "2017-12-31",
          "2018-01-31",
          "2018-02-28",
          "2018-03-31",
          "2018-04-30",
          "2018-05-31",
          "2018-06-30",
          "2018-07-31",
          "2018-08-31",
          "2018-09-30",
          "2018-10-31",
          "2018-11-30",
          "2018-12-31",
          "2019-01-31",
          "2019-02-28",
          "2019-03-31",
          "2019-04-30",
          "2019-05-31",
          "2019-06-30",
          "2019-07-31",
          "2019-08-31",
          "2019-09-30",
          "2019-10-31",
          "2019-11-30",
          "2019-12-31",
          "2020-01-31",
          "2020-02-29",
          "2020-03-31",
          "2020-04-30",
          "2020-05-31",
          "2020-06-30",
          "2020-07-31",
          "2020-08-31",
          "2020-09-30",
          "2020-10-31",
          "2020-11-30",
          "2020-12-31",
          "2021-01-31",
          "2021-02-28",
          "2021-03-31",
          "2021-04-30",
          "2021-05-31",
          "2021-06-30",
          "2021-07-31",
          "2021-08-31",
          "2021-09-30",
          "2021-10-31",
          "2021-11-30",
          "2021-12-31",
          "2022-01-31",
          "2022-02-28",
          "2022-03-31",
          "2022-04-30",
          "2022-05-31",
          "2022-06-30",
          "2022-07-31",
          "2022-08-31",
          "2022-09-30",
          "2022-10-31",
          "2022-11-30",
          "2022-12-31"
         ],
         "y": [
          2.454910934841109,
          1.0999118287411391,
          1.0997716431105111,
          1.100477853171105,
          2.4856736163269977,
          2.453919804307197,
          1.099668191019401,
          1.1001306278842875,
          1.1000918262300112,
          2.4846640934119666,
          2.350450748685929,
          1.1000918219825822,
          2.1968272982854664,
          1.100127706088056,
          1.100106225708131,
          1.0997082518848371,
          2.1001089898093728,
          2.8998934176214695,
          2.947849828563541,
          3.899772313230896,
          2.900407696016328,
          2.099574159259851,
          2.3692103363286234,
          1.4333514372400358,
          1.1000667985542358,
          1.1000106365388618,
          1.1000553928542938,
          4.900205310161228,
          3.0192061258767966,
          2.0999038416228912,
          2.603014743268868,
          2.7468251733427773,
          2.8999963366715753,
          2.7436609636303504,
          2.7132928652432238,
          2.639627124028593,
          2.350003100246417,
          3.3997807483908566,
          4.650261920134248,
          5.899902042115338,
          3.1118390515990964,
          2.0996721036479684,
          1.5996716524175565,
          1.1003474929066202,
          2.099982066147377,
          2.8449733351714497,
          3.90000607171827,
          3.4631354309642437,
          5.899921310419607,
          3.5168396667699655,
          3.9001505177070834,
          2.099982074910364,
          5.900142757017178,
          2.9795202088711767,
          1.1000828364308766,
          2.1000920283101654,
          2.395709267964275,
          1.100082127765927,
          2.1000585411575483,
          2.0996325238112434,
          1.1000573340349409,
          2.099696957681221,
          2.349421815686417,
          1.1001101381331677,
          2.900134692460098,
          2.0999469401823454,
          4.899996555512451,
          5.89999654597753,
          3.2334456634336024,
          2.4949544930732337,
          1.1002199893436604,
          1.1001084587865602,
          1.0999857457073476,
          3.100110163850722,
          6.899915058256477,
          4.619556822289616,
          9.900151403509607,
          3.8998458500562396,
          2.6970052811508016,
          3.100190586151877,
          5.899656272391988,
          3.100006439935533
         ]
        }
       ],
       "layout": {
        "font": {
         "color": "#f3f3f3"
        },
        "height": 600,
        "paper_bgcolor": "#31373E",
        "plot_bgcolor": "#2A3035",
        "shapes": [
         {
          "line": {
           "color": "#66E5CC",
           "dash": "dot",
           "width": 5
          },
          "type": "line",
          "x0": "2021-12-31",
          "x1": "2021-12-31",
          "xref": "x",
          "y0": 0,
          "y1": 1,
          "yref": "y domain"
         }
        ],
        "showlegend": true,
        "template": {
         "data": {
          "bar": [
           {
            "error_x": {
             "color": "#2a3f5f"
            },
            "error_y": {
             "color": "#2a3f5f"
            },
            "marker": {
             "line": {
              "color": "#E5ECF6",
              "width": 0.5
             },
             "pattern": {
              "fillmode": "overlay",
              "size": 10,
              "solidity": 0.2
             }
            },
            "type": "bar"
           }
          ],
          "barpolar": [
           {
            "marker": {
             "line": {
              "color": "#E5ECF6",
              "width": 0.5
             },
             "pattern": {
              "fillmode": "overlay",
              "size": 10,
              "solidity": 0.2
             }
            },
            "type": "barpolar"
           }
          ],
          "carpet": [
           {
            "aaxis": {
             "endlinecolor": "#2a3f5f",
             "gridcolor": "white",
             "linecolor": "white",
             "minorgridcolor": "white",
             "startlinecolor": "#2a3f5f"
            },
            "baxis": {
             "endlinecolor": "#2a3f5f",
             "gridcolor": "white",
             "linecolor": "white",
             "minorgridcolor": "white",
             "startlinecolor": "#2a3f5f"
            },
            "type": "carpet"
           }
          ],
          "choropleth": [
           {
            "colorbar": {
             "outlinewidth": 0,
             "ticks": ""
            },
            "type": "choropleth"
           }
          ],
          "contour": [
           {
            "colorbar": {
             "outlinewidth": 0,
             "ticks": ""
            },
            "colorscale": [
             [
              0,
              "#0d0887"
             ],
             [
              0.1111111111111111,
              "#46039f"
             ],
             [
              0.2222222222222222,
              "#7201a8"
             ],
             [
              0.3333333333333333,
              "#9c179e"
             ],
             [
              0.4444444444444444,
              "#bd3786"
             ],
             [
              0.5555555555555556,
              "#d8576b"
             ],
             [
              0.6666666666666666,
              "#ed7953"
             ],
             [
              0.7777777777777778,
              "#fb9f3a"
             ],
             [
              0.8888888888888888,
              "#fdca26"
             ],
             [
              1,
              "#f0f921"
             ]
            ],
            "type": "contour"
           }
          ],
          "contourcarpet": [
           {
            "colorbar": {
             "outlinewidth": 0,
             "ticks": ""
            },
            "type": "contourcarpet"
           }
          ],
          "heatmap": [
           {
            "colorbar": {
             "outlinewidth": 0,
             "ticks": ""
            },
            "colorscale": [
             [
              0,
              "#0d0887"
             ],
             [
              0.1111111111111111,
              "#46039f"
             ],
             [
              0.2222222222222222,
              "#7201a8"
             ],
             [
              0.3333333333333333,
              "#9c179e"
             ],
             [
              0.4444444444444444,
              "#bd3786"
             ],
             [
              0.5555555555555556,
              "#d8576b"
             ],
             [
              0.6666666666666666,
              "#ed7953"
             ],
             [
              0.7777777777777778,
              "#fb9f3a"
             ],
             [
              0.8888888888888888,
              "#fdca26"
             ],
             [
              1,
              "#f0f921"
             ]
            ],
            "type": "heatmap"
           }
          ],
          "heatmapgl": [
           {
            "colorbar": {
             "outlinewidth": 0,
             "ticks": ""
            },
            "colorscale": [
             [
              0,
              "#0d0887"
             ],
             [
              0.1111111111111111,
              "#46039f"
             ],
             [
              0.2222222222222222,
              "#7201a8"
             ],
             [
              0.3333333333333333,
              "#9c179e"
             ],
             [
              0.4444444444444444,
              "#bd3786"
             ],
             [
              0.5555555555555556,
              "#d8576b"
             ],
             [
              0.6666666666666666,
              "#ed7953"
             ],
             [
              0.7777777777777778,
              "#fb9f3a"
             ],
             [
              0.8888888888888888,
              "#fdca26"
             ],
             [
              1,
              "#f0f921"
             ]
            ],
            "type": "heatmapgl"
           }
          ],
          "histogram": [
           {
            "marker": {
             "pattern": {
              "fillmode": "overlay",
              "size": 10,
              "solidity": 0.2
             }
            },
            "type": "histogram"
           }
          ],
          "histogram2d": [
           {
            "colorbar": {
             "outlinewidth": 0,
             "ticks": ""
            },
            "colorscale": [
             [
              0,
              "#0d0887"
             ],
             [
              0.1111111111111111,
              "#46039f"
             ],
             [
              0.2222222222222222,
              "#7201a8"
             ],
             [
              0.3333333333333333,
              "#9c179e"
             ],
             [
              0.4444444444444444,
              "#bd3786"
             ],
             [
              0.5555555555555556,
              "#d8576b"
             ],
             [
              0.6666666666666666,
              "#ed7953"
             ],
             [
              0.7777777777777778,
              "#fb9f3a"
             ],
             [
              0.8888888888888888,
              "#fdca26"
             ],
             [
              1,
              "#f0f921"
             ]
            ],
            "type": "histogram2d"
           }
          ],
          "histogram2dcontour": [
           {
            "colorbar": {
             "outlinewidth": 0,
             "ticks": ""
            },
            "colorscale": [
             [
              0,
              "#0d0887"
             ],
             [
              0.1111111111111111,
              "#46039f"
             ],
             [
              0.2222222222222222,
              "#7201a8"
             ],
             [
              0.3333333333333333,
              "#9c179e"
             ],
             [
              0.4444444444444444,
              "#bd3786"
             ],
             [
              0.5555555555555556,
              "#d8576b"
             ],
             [
              0.6666666666666666,
              "#ed7953"
             ],
             [
              0.7777777777777778,
              "#fb9f3a"
             ],
             [
              0.8888888888888888,
              "#fdca26"
             ],
             [
              1,
              "#f0f921"
             ]
            ],
            "type": "histogram2dcontour"
           }
          ],
          "mesh3d": [
           {
            "colorbar": {
             "outlinewidth": 0,
             "ticks": ""
            },
            "type": "mesh3d"
           }
          ],
          "parcoords": [
           {
            "line": {
             "colorbar": {
              "outlinewidth": 0,
              "ticks": ""
             }
            },
            "type": "parcoords"
           }
          ],
          "pie": [
           {
            "automargin": true,
            "type": "pie"
           }
          ],
          "scatter": [
           {
            "fillpattern": {
             "fillmode": "overlay",
             "size": 10,
             "solidity": 0.2
            },
            "type": "scatter"
           }
          ],
          "scatter3d": [
           {
            "line": {
             "colorbar": {
              "outlinewidth": 0,
              "ticks": ""
             }
            },
            "marker": {
             "colorbar": {
              "outlinewidth": 0,
              "ticks": ""
             }
            },
            "type": "scatter3d"
           }
          ],
          "scattercarpet": [
           {
            "marker": {
             "colorbar": {
              "outlinewidth": 0,
              "ticks": ""
             }
            },
            "type": "scattercarpet"
           }
          ],
          "scattergeo": [
           {
            "marker": {
             "colorbar": {
              "outlinewidth": 0,
              "ticks": ""
             }
            },
            "type": "scattergeo"
           }
          ],
          "scattergl": [
           {
            "marker": {
             "colorbar": {
              "outlinewidth": 0,
              "ticks": ""
             }
            },
            "type": "scattergl"
           }
          ],
          "scattermapbox": [
           {
            "marker": {
             "colorbar": {
              "outlinewidth": 0,
              "ticks": ""
             }
            },
            "type": "scattermapbox"
           }
          ],
          "scatterpolar": [
           {
            "marker": {
             "colorbar": {
              "outlinewidth": 0,
              "ticks": ""
             }
            },
            "type": "scatterpolar"
           }
          ],
          "scatterpolargl": [
           {
            "marker": {
             "colorbar": {
              "outlinewidth": 0,
              "ticks": ""
             }
            },
            "type": "scatterpolargl"
           }
          ],
          "scatterternary": [
           {
            "marker": {
             "colorbar": {
              "outlinewidth": 0,
              "ticks": ""
             }
            },
            "type": "scatterternary"
           }
          ],
          "surface": [
           {
            "colorbar": {
             "outlinewidth": 0,
             "ticks": ""
            },
            "colorscale": [
             [
              0,
              "#0d0887"
             ],
             [
              0.1111111111111111,
              "#46039f"
             ],
             [
              0.2222222222222222,
              "#7201a8"
             ],
             [
              0.3333333333333333,
              "#9c179e"
             ],
             [
              0.4444444444444444,
              "#bd3786"
             ],
             [
              0.5555555555555556,
              "#d8576b"
             ],
             [
              0.6666666666666666,
              "#ed7953"
             ],
             [
              0.7777777777777778,
              "#fb9f3a"
             ],
             [
              0.8888888888888888,
              "#fdca26"
             ],
             [
              1,
              "#f0f921"
             ]
            ],
            "type": "surface"
           }
          ],
          "table": [
           {
            "cells": {
             "fill": {
              "color": "#EBF0F8"
             },
             "line": {
              "color": "white"
             }
            },
            "header": {
             "fill": {
              "color": "#C8D4E3"
             },
             "line": {
              "color": "white"
             }
            },
            "type": "table"
           }
          ]
         },
         "layout": {
          "annotationdefaults": {
           "arrowcolor": "#2a3f5f",
           "arrowhead": 0,
           "arrowwidth": 1
          },
          "autotypenumbers": "strict",
          "coloraxis": {
           "colorbar": {
            "outlinewidth": 0,
            "ticks": ""
           }
          },
          "colorscale": {
           "diverging": [
            [
             0,
             "#8e0152"
            ],
            [
             0.1,
             "#c51b7d"
            ],
            [
             0.2,
             "#de77ae"
            ],
            [
             0.3,
             "#f1b6da"
            ],
            [
             0.4,
             "#fde0ef"
            ],
            [
             0.5,
             "#f7f7f7"
            ],
            [
             0.6,
             "#e6f5d0"
            ],
            [
             0.7,
             "#b8e186"
            ],
            [
             0.8,
             "#7fbc41"
            ],
            [
             0.9,
             "#4d9221"
            ],
            [
             1,
             "#276419"
            ]
           ],
           "sequential": [
            [
             0,
             "#0d0887"
            ],
            [
             0.1111111111111111,
             "#46039f"
            ],
            [
             0.2222222222222222,
             "#7201a8"
            ],
            [
             0.3333333333333333,
             "#9c179e"
            ],
            [
             0.4444444444444444,
             "#bd3786"
            ],
            [
             0.5555555555555556,
             "#d8576b"
            ],
            [
             0.6666666666666666,
             "#ed7953"
            ],
            [
             0.7777777777777778,
             "#fb9f3a"
            ],
            [
             0.8888888888888888,
             "#fdca26"
            ],
            [
             1,
             "#f0f921"
            ]
           ],
           "sequentialminus": [
            [
             0,
             "#0d0887"
            ],
            [
             0.1111111111111111,
             "#46039f"
            ],
            [
             0.2222222222222222,
             "#7201a8"
            ],
            [
             0.3333333333333333,
             "#9c179e"
            ],
            [
             0.4444444444444444,
             "#bd3786"
            ],
            [
             0.5555555555555556,
             "#d8576b"
            ],
            [
             0.6666666666666666,
             "#ed7953"
            ],
            [
             0.7777777777777778,
             "#fb9f3a"
            ],
            [
             0.8888888888888888,
             "#fdca26"
            ],
            [
             1,
             "#f0f921"
            ]
           ]
          },
          "colorway": [
           "#636efa",
           "#EF553B",
           "#00cc96",
           "#ab63fa",
           "#FFA15A",
           "#19d3f3",
           "#FF6692",
           "#B6E880",
           "#FF97FF",
           "#FECB52"
          ],
          "font": {
           "color": "#2a3f5f"
          },
          "geo": {
           "bgcolor": "white",
           "lakecolor": "white",
           "landcolor": "#E5ECF6",
           "showlakes": true,
           "showland": true,
           "subunitcolor": "white"
          },
          "hoverlabel": {
           "align": "left"
          },
          "hovermode": "closest",
          "mapbox": {
           "style": "light"
          },
          "paper_bgcolor": "white",
          "plot_bgcolor": "#E5ECF6",
          "polar": {
           "angularaxis": {
            "gridcolor": "white",
            "linecolor": "white",
            "ticks": ""
           },
           "bgcolor": "#E5ECF6",
           "radialaxis": {
            "gridcolor": "white",
            "linecolor": "white",
            "ticks": ""
           }
          },
          "scene": {
           "xaxis": {
            "backgroundcolor": "#E5ECF6",
            "gridcolor": "white",
            "gridwidth": 2,
            "linecolor": "white",
            "showbackground": true,
            "ticks": "",
            "zerolinecolor": "white"
           },
           "yaxis": {
            "backgroundcolor": "#E5ECF6",
            "gridcolor": "white",
            "gridwidth": 2,
            "linecolor": "white",
            "showbackground": true,
            "ticks": "",
            "zerolinecolor": "white"
           },
           "zaxis": {
            "backgroundcolor": "#E5ECF6",
            "gridcolor": "white",
            "gridwidth": 2,
            "linecolor": "white",
            "showbackground": true,
            "ticks": "",
            "zerolinecolor": "white"
           }
          },
          "shapedefaults": {
           "line": {
            "color": "#2a3f5f"
           }
          },
          "ternary": {
           "aaxis": {
            "gridcolor": "white",
            "linecolor": "white",
            "ticks": ""
           },
           "baxis": {
            "gridcolor": "white",
            "linecolor": "white",
            "ticks": ""
           },
           "bgcolor": "#E5ECF6",
           "caxis": {
            "gridcolor": "white",
            "linecolor": "white",
            "ticks": ""
           }
          },
          "title": {
           "x": 0.05
          },
          "xaxis": {
           "automargin": true,
           "gridcolor": "white",
           "linecolor": "white",
           "ticks": "",
           "title": {
            "standoff": 15
           },
           "zerolinecolor": "white",
           "zerolinewidth": 2
          },
          "yaxis": {
           "automargin": true,
           "gridcolor": "white",
           "linecolor": "white",
           "ticks": "",
           "title": {
            "standoff": 15
           },
           "zerolinecolor": "white",
           "zerolinewidth": 2
          }
         }
        },
        "title": {
         "text": "<span style = \"color:#f3f3f3\">Linear Regression vs. SVR for Tweet Frequency of Risa Hontiveros Philhealth Allegations </span>"
        },
        "xaxis": {
         "color": "#f3f3f3",
         "title": {
          "text": "<b>Date</b>"
         }
        },
        "yaxis": {
         "color": "#f3f3f3",
         "title": {
          "text": "<b>Tweet Count</b>"
         }
        }
       }
      }
     },
     "metadata": {},
     "output_type": "display_data"
    }
   ],
   "source": [
    "## Perform regression modeling\n",
    "from sklearn.svm import SVR\n",
    "from sklearn.pipeline import Pipeline\n",
    "from sklearn.preprocessing import StandardScaler\n",
    "from sklearn.model_selection import train_test_split, GridSearchCV\n",
    "from sklearn.metrics import r2_score, mean_squared_error\n",
    "\n",
    "# Convert datetime to int\n",
    "x = count_monthly['Date posted'].astype(np.int64) / 10**9  # Convert to seconds (UNIX epoch start)\n",
    "x = x.values.reshape(-1, 1)\n",
    "\n",
    "y = count_monthly['count_linear']\n",
    "\n",
    "\n",
    "#--------------------------------------------------------------\n",
    "# SVR model with hyperparameter optimization\n",
    "#--------------------------------------------------------------\n",
    "# Split the data into train and test sets\n",
    "x_train, x_test, y_train, y_test = train_test_split(x, y, test_size=0.3, random_state=42)\n",
    "\n",
    "# Create a pipeline with StandardScaler and SVR\n",
    "pipeline = Pipeline([('scaler', StandardScaler()),\n",
    "                     ('svr', SVR(kernel='rbf'))])\n",
    "\n",
    "# Define the parameter grid for hyperparameter optimization\n",
    "# param_grid = {'svr__C': [10000, 1000000, 100],\n",
    "#               'svr__gamma': [10, 1000, 100]}\n",
    "param_grid = {'svr__C': [100, 1000, 100],\n",
    "              'svr__gamma': [1, 1000, 100]}\n",
    "\n",
    "# Perform grid search with cross-validation on train data\n",
    "grid_search = GridSearchCV(pipeline, param_grid)\n",
    "grid_search.fit(x_train, y_train)\n",
    "\n",
    "# Predict using best model on test data\n",
    "best_svr = grid_search.best_estimator_\n",
    "y_svr_pred_test = best_svr.predict(x_test)\n",
    "\n",
    "\n",
    "# Calculate R2 and RMSE for SVR model\n",
    "svr_r2 = r2_score(y_test, y_svr_pred_test)\n",
    "svr_rmse = np.sqrt(mean_squared_error(y_test, y_svr_pred_test))\n",
    "\n",
    "print(\"Model Evaluation\")\n",
    "print(\"\\nSupport Vector Regression: RMSE=%.2f, R2=%.2f\" % (svr_rmse, svr_r2))\n",
    "print(\"Hyperparameters:\", best_svr, \"\\n\")\n",
    "\n",
    "# Plot the model\n",
    "import plotly.graph_objects as go\n",
    "\n",
    "xtt = count_monthly['Date posted'].dt.strftime('%Y-%m-%d')\n",
    "scatter_actual = go.Scatter(x=xtt, y=y, mode='markers', name='Actual', marker=dict(color='#73bbd4', opacity=1))\n",
    "\n",
    "\n",
    "line_regression = go.Scatter(x=xtt, y=y_linear_pred, mode='lines', name='LR', line=dict(color='#FF5E84', dash='dash', width = 4))\n",
    "\n",
    "y_svr_pred = best_svr.predict(x) # Plot on all data\n",
    "line_svr = go.Scatter(x=xtt, y=y_svr_pred, mode='lines', name='SVR', line=dict(color='#f3f3f3', width = 4))\n",
    "\n",
    "data = [scatter_actual, line_regression, line_regression_elec, line_svr]\n",
    "\n",
    "layout = go.Layout(xaxis=dict(title='<b>Date</b>', color = \"#f3f3f3\"),\n",
    "                   yaxis=dict(title='<b>Tweet Count</b>', color = \"#f3f3f3\"),\n",
    "                   title = '<span style = \"color:#f3f3f3\">Linear Regression vs. SVR for Tweet Frequency of Risa Hontiveros Philhealth Allegations </span>',\n",
    "                   showlegend=True,\n",
    "                   height=600,\n",
    "                   plot_bgcolor=\"#2A3035\",\n",
    "                   paper_bgcolor=\"#31373E\",\n",
    "                   font_color = \"#f3f3f3\")\n",
    "\n",
    "\n",
    "print(\"The slope of the regression model is: \", Slope)\n",
    "\n",
    "fig = go.Figure(data=data, layout=layout)\n",
    "fig.add_vline(x = '2021-12-31', line_width = 5, line_dash = 'dot', line_color = '#66E5CC')\n",
    "fig.show()"
   ]
  }
 ],
 "metadata": {
  "kernelspec": {
   "display_name": "Python 3",
   "language": "python",
   "name": "python3"
  },
  "language_info": {
   "codemirror_mode": {
    "name": "ipython",
    "version": 3
   },
   "file_extension": ".py",
   "mimetype": "text/x-python",
   "name": "python",
   "nbconvert_exporter": "python",
   "pygments_lexer": "ipython3",
   "version": "3.11.4"
  },
  "orig_nbformat": 4
 },
 "nbformat": 4,
 "nbformat_minor": 2
}
